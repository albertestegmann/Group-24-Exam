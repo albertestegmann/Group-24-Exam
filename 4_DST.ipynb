{
 "cells": [
  {
   "cell_type": "markdown",
   "id": "9602ee42-81b6-4226-b2b3-2a504741a9b0",
   "metadata": {},
   "source": [
    "# **Final_v1**"
   ]
  },
  {
   "cell_type": "code",
   "execution_count": 1,
   "id": "14fb2ac9-81b8-41a4-8030-ef699e685a03",
   "metadata": {},
   "outputs": [
    {
     "name": "stdout",
     "output_type": "stream",
     "text": [
      "  Municipality  AverageAge  NumberOfChildren        Men      Women  \\\n",
      "0     Aabenraa   44.442998           11416.0    29422.0    29580.0   \n",
      "1      Aalborg   39.787919           40001.0   111992.0   110579.0   \n",
      "2       Aarhus   37.468004           64420.0   177450.0   184094.0   \n",
      "3  Albertslund   40.197494            5886.0    13669.0    13861.0   \n",
      "4  All Denmark   41.699473         1155838.0  2948999.0  2983655.0   \n",
      "\n",
      "   AverageIncome       H10       H20       H30      H40      H50      H60  \\\n",
      "0       337605.0    6870.0    1357.0    1076.0     70.0    573.0     33.0   \n",
      "1       344376.0   22874.0    4884.0    4571.0   1678.0   6219.0   7230.0   \n",
      "2       361364.0   36370.0    7686.0    5184.0   3064.0  15269.0  14294.0   \n",
      "3       322050.0    3535.0     726.0     617.0    172.0    600.0    343.0   \n",
      "4       371900.0  681384.0  141864.0  100202.0  23937.0  93519.0  73475.0   \n",
      "\n",
      "       H70     H80  \n",
      "0     49.0     8.0  \n",
      "1   4844.0   582.0  \n",
      "2  10542.0  1470.0  \n",
      "3    336.0    17.0  \n",
      "4  62355.0  9651.0  \n",
      "Data for Copenhagen:\n",
      "   Municipality  AverageAge  NumberOfChildren       Men     Women  \\\n",
      "13   Copenhagen   35.955329          110835.0  321808.0  331856.0   \n",
      "\n",
      "    AverageIncome      H10      H20     H30     H40      H50      H60  \\\n",
      "13       383030.0  58089.0  11631.0  7878.0  4449.0  16263.0  24159.0   \n",
      "\n",
      "        H70     H80  \n",
      "13  22620.0  3205.0  \n"
     ]
    }
   ],
   "source": [
    "import requests\n",
    "import pandas as pd\n",
    "\n",
    "# Function to construct the API request URL\n",
    "def construct_link(table_id, variables):\n",
    "    base = f'https://api.statbank.dk/v1/data/{table_id}/JSONSTAT?lang=en'\n",
    "    for var in variables:\n",
    "        base += f'&{var}'\n",
    "    return base\n",
    "\n",
    "# Function to get weighted average age per municipality\n",
    "def get_weighted_average_age():\n",
    "    age_groups = [str(i) for i in range(101)]\n",
    "    age_weighted_sums = {}\n",
    "    total_population = {}\n",
    "    \n",
    "    # Initialize dictionaries for each municipality\n",
    "    url_initial = construct_link('FOLK1A', [f'Tid=2023K1', 'OMRÅDE=*', 'KØN=TOT', f'ALDER=0'])\n",
    "    response_initial = requests.get(url_initial)\n",
    "    if response_initial.status_code == 200:\n",
    "        data = response_initial.json()\n",
    "        municipalities = data['dataset']['dimension']['OMRÅDE']['category']['label'].values()\n",
    "        for municipality in municipalities:\n",
    "            age_weighted_sums[municipality] = 0\n",
    "            total_population[municipality] = 0\n",
    "\n",
    "    # Process each age group\n",
    "    for age in age_groups:\n",
    "        url = construct_link('FOLK1A', [f'Tid=2023K1', 'OMRÅDE=*', 'KØN=TOT', f'ALDER={age}'])\n",
    "        response = requests.get(url)\n",
    "        if response.status_code == 200:\n",
    "            data = response.json()\n",
    "            values = data['dataset']['value']\n",
    "            municipalities = data['dataset']['dimension']['OMRÅDE']['category']['label'].values()\n",
    "            for i, municipality in enumerate(municipalities):\n",
    "                age_weighted_sums[municipality] += int(age) * values[i]\n",
    "                total_population[municipality] += values[i]\n",
    "    \n",
    "    # Calculate the average age for each municipality\n",
    "    average_age_data = []\n",
    "    for municipality in municipalities:\n",
    "        if total_population[municipality] > 0:\n",
    "            avg_age = age_weighted_sums[municipality] / total_population[municipality]\n",
    "            average_age_data.append((municipality, avg_age))\n",
    "        else:\n",
    "            average_age_data.append((municipality, None))\n",
    "\n",
    "    df_average_age = pd.DataFrame(average_age_data, columns=[\"Municipality\", \"AverageAge\"])\n",
    "    return df_average_age\n",
    "\n",
    "# Function to get number of children under 18 per municipality\n",
    "def get_number_of_children():\n",
    "    age_groups = [str(i) for i in range(18)]\n",
    "    children_data = []\n",
    "\n",
    "    for age in age_groups:\n",
    "        url = construct_link('FOLK1A', [f'Tid=2023K1', 'OMRÅDE=*', 'KØN=TOT', f'ALDER={age}'])\n",
    "        response = requests.get(url)\n",
    "        if response.status_code == 200:\n",
    "            data = response.json()\n",
    "            values = data['dataset']['value']\n",
    "            if not children_data:\n",
    "                children_data = [0] * len(values)\n",
    "            children_data = [children_data[i] + values[i] for i in range(len(values))]\n",
    "\n",
    "    municipalities = data['dataset']['dimension']['OMRÅDE']['category']['label'].values()\n",
    "    df_children = pd.DataFrame(list(zip(municipalities, children_data)), columns=[\"Municipality\", \"NumberOfChildren\"])\n",
    "    return df_children\n",
    "\n",
    "# Function to get population by gender per municipality\n",
    "def get_population_by_gender():\n",
    "    url_men = construct_link('FOLK1A', ['Tid=2023K1', 'OMRÅDE=*', 'KØN=1', 'ALDER=IALT'])\n",
    "    url_women = construct_link('FOLK1A', ['Tid=2023K1', 'OMRÅDE=*', 'KØN=2', 'ALDER=IALT'])\n",
    "\n",
    "    response_men = requests.get(url_men)\n",
    "    response_women = requests.get(url_women)\n",
    "    \n",
    "    if response_men.status_code == 200 and response_women.status_code == 200:\n",
    "        data_men = response_men.json()\n",
    "        data_women = response_women.json()\n",
    "        values_men = data_men['dataset']['value']\n",
    "        values_women = data_women['dataset']['value']\n",
    "        municipalities = data_men['dataset']['dimension']['OMRÅDE']['category']['label'].values()\n",
    "\n",
    "        df_gender = pd.DataFrame(list(zip(municipalities, values_men, values_women)), columns=[\"Municipality\", \"Men\", \"Women\"])\n",
    "        return df_gender\n",
    "    else:\n",
    "        return pd.DataFrame(columns=[\"Municipality\", \"Men\", \"Women\"])\n",
    "\n",
    "# Function to get average income per municipality\n",
    "def get_average_income():\n",
    "    url = construct_link('INDKP105', ['Tid=2022', 'OMRÅDE=*', 'ENHED=118', 'KOEN=MOK', 'ALDER1=00', 'INDKINTB=000'])\n",
    "    response = requests.get(url)\n",
    "    if response.status_code == 200:\n",
    "        data = response.json()\n",
    "        values = data['dataset']['value']\n",
    "        municipalities = data['dataset']['dimension']['OMRÅDE']['category']['label'].values()\n",
    "        df_income = pd.DataFrame(list(zip(municipalities, values)), columns=[\"Municipality\", \"AverageIncome\"])\n",
    "        return df_income\n",
    "    else:\n",
    "        return pd.DataFrame(columns=[\"Municipality\", \"AverageIncome\"])\n",
    "\n",
    "# Function to get education data per level and municipality\n",
    "def get_education_data_by_level(education_level):\n",
    "    url = construct_link('UDDAKT10', ['Tid=2022', 'BOPOMR=*', f'UDDANNELSE={education_level}', 'ALDER=TOT', 'KØN=10', 'FSTATUS=B'])\n",
    "    response = requests.get(url)\n",
    "    if response.status_code == 200:\n",
    "        data = response.json()\n",
    "        values = data['dataset']['value']\n",
    "        municipalities = data['dataset']['dimension']['BOPOMR']['category']['label'].values()\n",
    "        df = pd.DataFrame(list(zip(municipalities, values)), columns=[\"Municipality\", education_level])\n",
    "        return df\n",
    "    else:\n",
    "        return pd.DataFrame(columns=[\"Municipality\", education_level])\n",
    "\n",
    "# Combine demographic and income data into one dataset\n",
    "def combine_data():\n",
    "    df_age = get_weighted_average_age()\n",
    "    df_children = get_number_of_children()\n",
    "    df_gender = get_population_by_gender()\n",
    "    df_income = get_average_income()\n",
    "\n",
    "    # Merge all datasets on Municipality column\n",
    "    df_combined = df_age.merge(df_children, on=\"Municipality\", how='outer').merge(df_gender, on=\"Municipality\", how='outer').merge(df_income, on=\"Municipality\", how=\"outer\")\n",
    "    \n",
    "    return df_combined\n",
    "\n",
    "# Get all education levels\n",
    "education_levels = [\"H10\", \"H20\", \"H30\", \"H40\", \"H50\", \"H60\", \"H70\", \"H80\"]\n",
    "\n",
    "# Retrieve data for all education levels and merge them into a single DataFrame\n",
    "df_education_combined = None\n",
    "for level in education_levels:\n",
    "    df_level = get_education_data_by_level(level)\n",
    "    if df_education_combined is None:\n",
    "        df_education_combined = df_level\n",
    "    else:\n",
    "        df_education_combined = pd.merge(df_education_combined, df_level, on=\"Municipality\", how=\"outer\")\n",
    "\n",
    "# Combine demographic and income data with education data\n",
    "df_combined = combine_data()  # First combine demographic and income data\n",
    "df_final_combined = pd.merge(df_combined, df_education_combined, on=\"Municipality\", how=\"left\")  # Then merge education data\n",
    "\n",
    "# Display the final combined dataset\n",
    "print(df_final_combined.head())\n",
    "\n",
    "# Optionally save the final combined dataset to a CSV\n",
    "df_final_combined.to_csv(\"final_combined_dataset.csv\", index=False)\n",
    "\n",
    "# Example lookup for a specific municipality (e.g., Copenhagen)\n",
    "def lookup_final_municipality_data(df, municipality_name):\n",
    "    df_municipality = df[df[\"Municipality\"] == municipality_name]\n",
    "    if df_municipality.empty:\n",
    "        print(f\"No data found for municipality: {municipality_name}\")\n",
    "    else:\n",
    "        print(f\"Data for {municipality_name}:\")\n",
    "        print(df_municipality)\n",
    "\n",
    "# Lookup example for 'Copenhagen'\n",
    "lookup_final_municipality_data(df_final_combined, 'Copenhagen')\n"
   ]
  },
  {
   "cell_type": "code",
   "execution_count": 2,
   "id": "0a202065-8bf0-4978-9432-1f5fb25e8a88",
   "metadata": {},
   "outputs": [
    {
     "data": {
      "text/html": [
       "<div>\n",
       "<style scoped>\n",
       "    .dataframe tbody tr th:only-of-type {\n",
       "        vertical-align: middle;\n",
       "    }\n",
       "\n",
       "    .dataframe tbody tr th {\n",
       "        vertical-align: top;\n",
       "    }\n",
       "\n",
       "    .dataframe thead th {\n",
       "        text-align: right;\n",
       "    }\n",
       "</style>\n",
       "<table border=\"1\" class=\"dataframe\">\n",
       "  <thead>\n",
       "    <tr style=\"text-align: right;\">\n",
       "      <th></th>\n",
       "      <th>Municipality</th>\n",
       "      <th>AverageAge</th>\n",
       "      <th>NumberOfChildren</th>\n",
       "      <th>Men</th>\n",
       "      <th>Women</th>\n",
       "      <th>AverageIncome</th>\n",
       "      <th>H10</th>\n",
       "      <th>H20</th>\n",
       "      <th>H30</th>\n",
       "      <th>H40</th>\n",
       "      <th>H50</th>\n",
       "      <th>H60</th>\n",
       "      <th>H70</th>\n",
       "      <th>H80</th>\n",
       "    </tr>\n",
       "  </thead>\n",
       "  <tbody>\n",
       "    <tr>\n",
       "      <th>0</th>\n",
       "      <td>Aabenraa</td>\n",
       "      <td>44.442998</td>\n",
       "      <td>11416.0</td>\n",
       "      <td>29422.0</td>\n",
       "      <td>29580.0</td>\n",
       "      <td>337605.0</td>\n",
       "      <td>6870.0</td>\n",
       "      <td>1357.0</td>\n",
       "      <td>1076.0</td>\n",
       "      <td>70.0</td>\n",
       "      <td>573.0</td>\n",
       "      <td>33.0</td>\n",
       "      <td>49.0</td>\n",
       "      <td>8.0</td>\n",
       "    </tr>\n",
       "    <tr>\n",
       "      <th>1</th>\n",
       "      <td>Aalborg</td>\n",
       "      <td>39.787919</td>\n",
       "      <td>40001.0</td>\n",
       "      <td>111992.0</td>\n",
       "      <td>110579.0</td>\n",
       "      <td>344376.0</td>\n",
       "      <td>22874.0</td>\n",
       "      <td>4884.0</td>\n",
       "      <td>4571.0</td>\n",
       "      <td>1678.0</td>\n",
       "      <td>6219.0</td>\n",
       "      <td>7230.0</td>\n",
       "      <td>4844.0</td>\n",
       "      <td>582.0</td>\n",
       "    </tr>\n",
       "    <tr>\n",
       "      <th>2</th>\n",
       "      <td>Aarhus</td>\n",
       "      <td>37.468004</td>\n",
       "      <td>64420.0</td>\n",
       "      <td>177450.0</td>\n",
       "      <td>184094.0</td>\n",
       "      <td>361364.0</td>\n",
       "      <td>36370.0</td>\n",
       "      <td>7686.0</td>\n",
       "      <td>5184.0</td>\n",
       "      <td>3064.0</td>\n",
       "      <td>15269.0</td>\n",
       "      <td>14294.0</td>\n",
       "      <td>10542.0</td>\n",
       "      <td>1470.0</td>\n",
       "    </tr>\n",
       "    <tr>\n",
       "      <th>3</th>\n",
       "      <td>Albertslund</td>\n",
       "      <td>40.197494</td>\n",
       "      <td>5886.0</td>\n",
       "      <td>13669.0</td>\n",
       "      <td>13861.0</td>\n",
       "      <td>322050.0</td>\n",
       "      <td>3535.0</td>\n",
       "      <td>726.0</td>\n",
       "      <td>617.0</td>\n",
       "      <td>172.0</td>\n",
       "      <td>600.0</td>\n",
       "      <td>343.0</td>\n",
       "      <td>336.0</td>\n",
       "      <td>17.0</td>\n",
       "    </tr>\n",
       "    <tr>\n",
       "      <th>4</th>\n",
       "      <td>All Denmark</td>\n",
       "      <td>41.699473</td>\n",
       "      <td>1155838.0</td>\n",
       "      <td>2948999.0</td>\n",
       "      <td>2983655.0</td>\n",
       "      <td>371900.0</td>\n",
       "      <td>681384.0</td>\n",
       "      <td>141864.0</td>\n",
       "      <td>100202.0</td>\n",
       "      <td>23937.0</td>\n",
       "      <td>93519.0</td>\n",
       "      <td>73475.0</td>\n",
       "      <td>62355.0</td>\n",
       "      <td>9651.0</td>\n",
       "    </tr>\n",
       "    <tr>\n",
       "      <th>...</th>\n",
       "      <td>...</td>\n",
       "      <td>...</td>\n",
       "      <td>...</td>\n",
       "      <td>...</td>\n",
       "      <td>...</td>\n",
       "      <td>...</td>\n",
       "      <td>...</td>\n",
       "      <td>...</td>\n",
       "      <td>...</td>\n",
       "      <td>...</td>\n",
       "      <td>...</td>\n",
       "      <td>...</td>\n",
       "      <td>...</td>\n",
       "      <td>...</td>\n",
       "    </tr>\n",
       "    <tr>\n",
       "      <th>111</th>\n",
       "      <td>Vejle</td>\n",
       "      <td>41.044520</td>\n",
       "      <td>25719.0</td>\n",
       "      <td>60522.0</td>\n",
       "      <td>60427.0</td>\n",
       "      <td>378172.0</td>\n",
       "      <td>15128.0</td>\n",
       "      <td>3102.0</td>\n",
       "      <td>2122.0</td>\n",
       "      <td>437.0</td>\n",
       "      <td>1360.0</td>\n",
       "      <td>176.0</td>\n",
       "      <td>237.0</td>\n",
       "      <td>55.0</td>\n",
       "    </tr>\n",
       "    <tr>\n",
       "      <th>112</th>\n",
       "      <td>Vesthimmerlands</td>\n",
       "      <td>44.592912</td>\n",
       "      <td>7078.0</td>\n",
       "      <td>18402.0</td>\n",
       "      <td>18029.0</td>\n",
       "      <td>339304.0</td>\n",
       "      <td>4379.0</td>\n",
       "      <td>672.0</td>\n",
       "      <td>748.0</td>\n",
       "      <td>34.0</td>\n",
       "      <td>163.0</td>\n",
       "      <td>35.0</td>\n",
       "      <td>26.0</td>\n",
       "      <td>4.0</td>\n",
       "    </tr>\n",
       "    <tr>\n",
       "      <th>113</th>\n",
       "      <td>Viborg</td>\n",
       "      <td>42.297720</td>\n",
       "      <td>20466.0</td>\n",
       "      <td>48994.0</td>\n",
       "      <td>48737.0</td>\n",
       "      <td>354679.0</td>\n",
       "      <td>12556.0</td>\n",
       "      <td>2565.0</td>\n",
       "      <td>2118.0</td>\n",
       "      <td>267.0</td>\n",
       "      <td>1055.0</td>\n",
       "      <td>90.0</td>\n",
       "      <td>116.0</td>\n",
       "      <td>53.0</td>\n",
       "    </tr>\n",
       "    <tr>\n",
       "      <th>114</th>\n",
       "      <td>Vordingborg</td>\n",
       "      <td>47.128792</td>\n",
       "      <td>7526.0</td>\n",
       "      <td>22700.0</td>\n",
       "      <td>22741.0</td>\n",
       "      <td>334910.0</td>\n",
       "      <td>4541.0</td>\n",
       "      <td>942.0</td>\n",
       "      <td>699.0</td>\n",
       "      <td>99.0</td>\n",
       "      <td>473.0</td>\n",
       "      <td>41.0</td>\n",
       "      <td>51.0</td>\n",
       "      <td>7.0</td>\n",
       "    </tr>\n",
       "    <tr>\n",
       "      <th>115</th>\n",
       "      <td>Ærø</td>\n",
       "      <td>52.109890</td>\n",
       "      <td>829.0</td>\n",
       "      <td>2958.0</td>\n",
       "      <td>3050.0</td>\n",
       "      <td>298257.0</td>\n",
       "      <td>548.0</td>\n",
       "      <td>120.0</td>\n",
       "      <td>82.0</td>\n",
       "      <td>43.0</td>\n",
       "      <td>13.0</td>\n",
       "      <td>0.0</td>\n",
       "      <td>5.0</td>\n",
       "      <td>0.0</td>\n",
       "    </tr>\n",
       "  </tbody>\n",
       "</table>\n",
       "<p>116 rows × 14 columns</p>\n",
       "</div>"
      ],
      "text/plain": [
       "        Municipality  AverageAge  NumberOfChildren        Men      Women  \\\n",
       "0           Aabenraa   44.442998           11416.0    29422.0    29580.0   \n",
       "1            Aalborg   39.787919           40001.0   111992.0   110579.0   \n",
       "2             Aarhus   37.468004           64420.0   177450.0   184094.0   \n",
       "3        Albertslund   40.197494            5886.0    13669.0    13861.0   \n",
       "4        All Denmark   41.699473         1155838.0  2948999.0  2983655.0   \n",
       "..               ...         ...               ...        ...        ...   \n",
       "111            Vejle   41.044520           25719.0    60522.0    60427.0   \n",
       "112  Vesthimmerlands   44.592912            7078.0    18402.0    18029.0   \n",
       "113           Viborg   42.297720           20466.0    48994.0    48737.0   \n",
       "114      Vordingborg   47.128792            7526.0    22700.0    22741.0   \n",
       "115              Ærø   52.109890             829.0     2958.0     3050.0   \n",
       "\n",
       "     AverageIncome       H10       H20       H30      H40      H50      H60  \\\n",
       "0         337605.0    6870.0    1357.0    1076.0     70.0    573.0     33.0   \n",
       "1         344376.0   22874.0    4884.0    4571.0   1678.0   6219.0   7230.0   \n",
       "2         361364.0   36370.0    7686.0    5184.0   3064.0  15269.0  14294.0   \n",
       "3         322050.0    3535.0     726.0     617.0    172.0    600.0    343.0   \n",
       "4         371900.0  681384.0  141864.0  100202.0  23937.0  93519.0  73475.0   \n",
       "..             ...       ...       ...       ...      ...      ...      ...   \n",
       "111       378172.0   15128.0    3102.0    2122.0    437.0   1360.0    176.0   \n",
       "112       339304.0    4379.0     672.0     748.0     34.0    163.0     35.0   \n",
       "113       354679.0   12556.0    2565.0    2118.0    267.0   1055.0     90.0   \n",
       "114       334910.0    4541.0     942.0     699.0     99.0    473.0     41.0   \n",
       "115       298257.0     548.0     120.0      82.0     43.0     13.0      0.0   \n",
       "\n",
       "         H70     H80  \n",
       "0       49.0     8.0  \n",
       "1     4844.0   582.0  \n",
       "2    10542.0  1470.0  \n",
       "3      336.0    17.0  \n",
       "4    62355.0  9651.0  \n",
       "..       ...     ...  \n",
       "111    237.0    55.0  \n",
       "112     26.0     4.0  \n",
       "113    116.0    53.0  \n",
       "114     51.0     7.0  \n",
       "115      5.0     0.0  \n",
       "\n",
       "[116 rows x 14 columns]"
      ]
     },
     "execution_count": 2,
     "metadata": {},
     "output_type": "execute_result"
    }
   ],
   "source": [
    "df_final_combined"
   ]
  },
  {
   "cell_type": "markdown",
   "id": "6e986dc0-e662-4cdb-bf9c-db8c0f5037c7",
   "metadata": {},
   "source": [
    "## Dataset for socioeconomic data ##"
   ]
  },
  {
   "cell_type": "code",
   "execution_count": 4,
   "id": "8cbf27a5-239f-4476-98f2-a60598207fca",
   "metadata": {},
   "outputs": [
    {
     "data": {
      "text/html": [
       "<div>\n",
       "<style scoped>\n",
       "    .dataframe tbody tr th:only-of-type {\n",
       "        vertical-align: middle;\n",
       "    }\n",
       "\n",
       "    .dataframe tbody tr th {\n",
       "        vertical-align: top;\n",
       "    }\n",
       "\n",
       "    .dataframe thead th {\n",
       "        text-align: right;\n",
       "    }\n",
       "</style>\n",
       "<table border=\"1\" class=\"dataframe\">\n",
       "  <thead>\n",
       "    <tr style=\"text-align: right;\">\n",
       "      <th></th>\n",
       "      <th>Municipality</th>\n",
       "      <th>Folkeskoler</th>\n",
       "      <th>Special Education</th>\n",
       "      <th>Elderly Care</th>\n",
       "      <th>Healthcare</th>\n",
       "      <th>Green Spaces</th>\n",
       "      <th>Infrastructure</th>\n",
       "      <th>Social Services</th>\n",
       "    </tr>\n",
       "  </thead>\n",
       "  <tbody>\n",
       "    <tr>\n",
       "      <th>0</th>\n",
       "      <td>Aabenraa</td>\n",
       "      <td>368550000</td>\n",
       "      <td>679000</td>\n",
       "      <td>322629000</td>\n",
       "      <td>1710000</td>\n",
       "      <td>28000</td>\n",
       "      <td>46206000</td>\n",
       "      <td>35892000</td>\n",
       "    </tr>\n",
       "    <tr>\n",
       "      <th>1</th>\n",
       "      <td>Aalborg</td>\n",
       "      <td>1620359000</td>\n",
       "      <td>5402000</td>\n",
       "      <td>1117856000</td>\n",
       "      <td>58139000</td>\n",
       "      <td>1610000</td>\n",
       "      <td>132129000</td>\n",
       "      <td>134689000</td>\n",
       "    </tr>\n",
       "    <tr>\n",
       "      <th>2</th>\n",
       "      <td>Aarhus</td>\n",
       "      <td>2226985000</td>\n",
       "      <td>4347000</td>\n",
       "      <td>1442222000</td>\n",
       "      <td>68896000</td>\n",
       "      <td>5633000</td>\n",
       "      <td>75722000</td>\n",
       "      <td>113920000</td>\n",
       "    </tr>\n",
       "    <tr>\n",
       "      <th>3</th>\n",
       "      <td>Albertslund</td>\n",
       "      <td>261231000</td>\n",
       "      <td>1201000</td>\n",
       "      <td>154417000</td>\n",
       "      <td>7708000</td>\n",
       "      <td>35000</td>\n",
       "      <td>26054000</td>\n",
       "      <td>30108000</td>\n",
       "    </tr>\n",
       "    <tr>\n",
       "      <th>4</th>\n",
       "      <td>All Denmark</td>\n",
       "      <td>40237510000</td>\n",
       "      <td>185958000</td>\n",
       "      <td>30797574000</td>\n",
       "      <td>1427778000</td>\n",
       "      <td>77979000</td>\n",
       "      <td>3265476000</td>\n",
       "      <td>4115113000</td>\n",
       "    </tr>\n",
       "  </tbody>\n",
       "</table>\n",
       "</div>"
      ],
      "text/plain": [
       "  Municipality  Folkeskoler  Special Education  Elderly Care  Healthcare  \\\n",
       "0     Aabenraa    368550000             679000     322629000     1710000   \n",
       "1      Aalborg   1620359000            5402000    1117856000    58139000   \n",
       "2       Aarhus   2226985000            4347000    1442222000    68896000   \n",
       "3  Albertslund    261231000            1201000     154417000     7708000   \n",
       "4  All Denmark  40237510000          185958000   30797574000  1427778000   \n",
       "\n",
       "   Green Spaces  Infrastructure  Social Services  \n",
       "0         28000        46206000         35892000  \n",
       "1       1610000       132129000        134689000  \n",
       "2       5633000        75722000        113920000  \n",
       "3         35000        26054000         30108000  \n",
       "4      77979000      3265476000       4115113000  "
      ]
     },
     "execution_count": 4,
     "metadata": {},
     "output_type": "execute_result"
    }
   ],
   "source": [
    "import requests\n",
    "import pandas as pd\n",
    "\n",
    "# Define the categories to extract related to real estate impact, along with their descriptions\n",
    "relevant_functions = {\n",
    "    \"32201\": \"Folkeskoler\",  # Folkeskoler\n",
    "    \"32207\": \"Special Education\",  # Special Education\n",
    "    \"53027\": \"Elderly Care\",  # Elderly Care\n",
    "    \"46288\": \"Healthcare\",  # Healthcare (Sundhedsfremme og forebyggelse)\n",
    "    \"03853\": \"Green Spaces\",  # Green Spaces (Skove)\n",
    "    \"22811\": \"Infrastructure\",  # Infrastructure (Vejvedligeholdelse)\n",
    "    \"53859\": \"Social Services\"  # Social Services (Aktivitets- og samværstilbud)\n",
    "}\n",
    "\n",
    "# Function to construct the API link\n",
    "def construct_link(table_id, variables):\n",
    "    base = f'https://api.statbank.dk/v1/data/{table_id}/JSONSTAT?lang=en'\n",
    "    for var in variables:\n",
    "        base += f'&{var}'\n",
    "    return base\n",
    "\n",
    "# Function to retrieve municipal budget data for a specific function\n",
    "def get_municipal_budget_data_by_function(function_code, description):\n",
    "    url = construct_link('BUDK32', [f'Tid=2023', f'FUNKTION={function_code}', 'REGI07A=*', 'DRANST=1', 'ART=UE', 'PRISENHED=LOBM'])\n",
    "    \n",
    "    response = requests.get(url)\n",
    "    if response.status_code == 200:\n",
    "        data = response.json()\n",
    "        values = data['dataset']['value']\n",
    "        municipalities = data['dataset']['dimension']['REGI07A']['category']['label'].values()\n",
    "        \n",
    "        # Multiply the values by 1,000 and create a DataFrame with the proper column name\n",
    "        df = pd.DataFrame(list(zip(municipalities, [v * 1000 for v in values])), columns=[\"Municipality\", description])\n",
    "        return df\n",
    "    else:\n",
    "        print(f\"Error fetching data for function {description}: {response.status_code}\")\n",
    "        return pd.DataFrame(columns=[\"Municipality\", description])\n",
    "\n",
    "# Retrieve data for all relevant functions and merge them into a single DataFrame\n",
    "df_budget_combined = None\n",
    "\n",
    "for function_code, description in relevant_functions.items():\n",
    "    df_function = get_municipal_budget_data_by_function(function_code, description)\n",
    "    if df_budget_combined is None:\n",
    "        df_budget_combined = df_function\n",
    "    else:\n",
    "        df_budget_combined = pd.merge(df_budget_combined, df_function, on=\"Municipality\", how=\"outer\")\n",
    "\n",
    "# Display the combined budget data for all municipalities and functions\n",
    "df_budget_combined.head()"
   ]
  },
  {
   "cell_type": "code",
   "execution_count": 5,
   "id": "6a731118-bffd-45c6-a41b-a13660f10fdf",
   "metadata": {},
   "outputs": [
    {
     "data": {
      "text/html": [
       "<div>\n",
       "<style scoped>\n",
       "    .dataframe tbody tr th:only-of-type {\n",
       "        vertical-align: middle;\n",
       "    }\n",
       "\n",
       "    .dataframe tbody tr th {\n",
       "        vertical-align: top;\n",
       "    }\n",
       "\n",
       "    .dataframe thead th {\n",
       "        text-align: right;\n",
       "    }\n",
       "</style>\n",
       "<table border=\"1\" class=\"dataframe\">\n",
       "  <thead>\n",
       "    <tr style=\"text-align: right;\">\n",
       "      <th></th>\n",
       "      <th>Municipality</th>\n",
       "      <th>AverageAge</th>\n",
       "      <th>NumberOfChildren</th>\n",
       "      <th>Men</th>\n",
       "      <th>Women</th>\n",
       "      <th>AverageIncome</th>\n",
       "      <th>Elementary school</th>\n",
       "      <th>High school education</th>\n",
       "      <th>Vocational Education</th>\n",
       "      <th>Short Higher Education</th>\n",
       "      <th>...</th>\n",
       "      <th>Bachelor's programmes</th>\n",
       "      <th>Longer Higher Education</th>\n",
       "      <th>PhD and research programs</th>\n",
       "      <th>Elementary school expense</th>\n",
       "      <th>Special Education expense</th>\n",
       "      <th>Elderly Care expense</th>\n",
       "      <th>Healthcare expense</th>\n",
       "      <th>Green Spaces expense</th>\n",
       "      <th>Infrastructure expense</th>\n",
       "      <th>Social Services expense</th>\n",
       "    </tr>\n",
       "  </thead>\n",
       "  <tbody>\n",
       "    <tr>\n",
       "      <th>0</th>\n",
       "      <td>Aabenraa</td>\n",
       "      <td>44.442998</td>\n",
       "      <td>11416.0</td>\n",
       "      <td>29422.0</td>\n",
       "      <td>29580.0</td>\n",
       "      <td>337605.0</td>\n",
       "      <td>6870.0</td>\n",
       "      <td>1357.0</td>\n",
       "      <td>1076.0</td>\n",
       "      <td>70.0</td>\n",
       "      <td>...</td>\n",
       "      <td>33.0</td>\n",
       "      <td>49.0</td>\n",
       "      <td>8.0</td>\n",
       "      <td>3.685500e+08</td>\n",
       "      <td>679000.0</td>\n",
       "      <td>3.226290e+08</td>\n",
       "      <td>1.710000e+06</td>\n",
       "      <td>28000.0</td>\n",
       "      <td>4.620600e+07</td>\n",
       "      <td>3.589200e+07</td>\n",
       "    </tr>\n",
       "    <tr>\n",
       "      <th>1</th>\n",
       "      <td>Aalborg</td>\n",
       "      <td>39.787919</td>\n",
       "      <td>40001.0</td>\n",
       "      <td>111992.0</td>\n",
       "      <td>110579.0</td>\n",
       "      <td>344376.0</td>\n",
       "      <td>22874.0</td>\n",
       "      <td>4884.0</td>\n",
       "      <td>4571.0</td>\n",
       "      <td>1678.0</td>\n",
       "      <td>...</td>\n",
       "      <td>7230.0</td>\n",
       "      <td>4844.0</td>\n",
       "      <td>582.0</td>\n",
       "      <td>1.620359e+09</td>\n",
       "      <td>5402000.0</td>\n",
       "      <td>1.117856e+09</td>\n",
       "      <td>5.813900e+07</td>\n",
       "      <td>1610000.0</td>\n",
       "      <td>1.321290e+08</td>\n",
       "      <td>1.346890e+08</td>\n",
       "    </tr>\n",
       "    <tr>\n",
       "      <th>2</th>\n",
       "      <td>Aarhus</td>\n",
       "      <td>37.468004</td>\n",
       "      <td>64420.0</td>\n",
       "      <td>177450.0</td>\n",
       "      <td>184094.0</td>\n",
       "      <td>361364.0</td>\n",
       "      <td>36370.0</td>\n",
       "      <td>7686.0</td>\n",
       "      <td>5184.0</td>\n",
       "      <td>3064.0</td>\n",
       "      <td>...</td>\n",
       "      <td>14294.0</td>\n",
       "      <td>10542.0</td>\n",
       "      <td>1470.0</td>\n",
       "      <td>2.226985e+09</td>\n",
       "      <td>4347000.0</td>\n",
       "      <td>1.442222e+09</td>\n",
       "      <td>6.889600e+07</td>\n",
       "      <td>5633000.0</td>\n",
       "      <td>7.572200e+07</td>\n",
       "      <td>1.139200e+08</td>\n",
       "    </tr>\n",
       "    <tr>\n",
       "      <th>3</th>\n",
       "      <td>Albertslund</td>\n",
       "      <td>40.197494</td>\n",
       "      <td>5886.0</td>\n",
       "      <td>13669.0</td>\n",
       "      <td>13861.0</td>\n",
       "      <td>322050.0</td>\n",
       "      <td>3535.0</td>\n",
       "      <td>726.0</td>\n",
       "      <td>617.0</td>\n",
       "      <td>172.0</td>\n",
       "      <td>...</td>\n",
       "      <td>343.0</td>\n",
       "      <td>336.0</td>\n",
       "      <td>17.0</td>\n",
       "      <td>2.612310e+08</td>\n",
       "      <td>1201000.0</td>\n",
       "      <td>1.544170e+08</td>\n",
       "      <td>7.708000e+06</td>\n",
       "      <td>35000.0</td>\n",
       "      <td>2.605400e+07</td>\n",
       "      <td>3.010800e+07</td>\n",
       "    </tr>\n",
       "    <tr>\n",
       "      <th>4</th>\n",
       "      <td>All Denmark</td>\n",
       "      <td>41.699473</td>\n",
       "      <td>1155838.0</td>\n",
       "      <td>2948999.0</td>\n",
       "      <td>2983655.0</td>\n",
       "      <td>371900.0</td>\n",
       "      <td>681384.0</td>\n",
       "      <td>141864.0</td>\n",
       "      <td>100202.0</td>\n",
       "      <td>23937.0</td>\n",
       "      <td>...</td>\n",
       "      <td>73475.0</td>\n",
       "      <td>62355.0</td>\n",
       "      <td>9651.0</td>\n",
       "      <td>4.023751e+10</td>\n",
       "      <td>185958000.0</td>\n",
       "      <td>3.079757e+10</td>\n",
       "      <td>1.427778e+09</td>\n",
       "      <td>77979000.0</td>\n",
       "      <td>3.265476e+09</td>\n",
       "      <td>4.115113e+09</td>\n",
       "    </tr>\n",
       "  </tbody>\n",
       "</table>\n",
       "<p>5 rows × 21 columns</p>\n",
       "</div>"
      ],
      "text/plain": [
       "  Municipality  AverageAge  NumberOfChildren        Men      Women  \\\n",
       "0     Aabenraa   44.442998           11416.0    29422.0    29580.0   \n",
       "1      Aalborg   39.787919           40001.0   111992.0   110579.0   \n",
       "2       Aarhus   37.468004           64420.0   177450.0   184094.0   \n",
       "3  Albertslund   40.197494            5886.0    13669.0    13861.0   \n",
       "4  All Denmark   41.699473         1155838.0  2948999.0  2983655.0   \n",
       "\n",
       "   AverageIncome  Elementary school  High school education  \\\n",
       "0       337605.0             6870.0                 1357.0   \n",
       "1       344376.0            22874.0                 4884.0   \n",
       "2       361364.0            36370.0                 7686.0   \n",
       "3       322050.0             3535.0                  726.0   \n",
       "4       371900.0           681384.0               141864.0   \n",
       "\n",
       "   Vocational Education  Short Higher Education  ...  Bachelor's programmes  \\\n",
       "0                1076.0                    70.0  ...                   33.0   \n",
       "1                4571.0                  1678.0  ...                 7230.0   \n",
       "2                5184.0                  3064.0  ...                14294.0   \n",
       "3                 617.0                   172.0  ...                  343.0   \n",
       "4              100202.0                 23937.0  ...                73475.0   \n",
       "\n",
       "   Longer Higher Education  PhD and research programs  \\\n",
       "0                     49.0                        8.0   \n",
       "1                   4844.0                      582.0   \n",
       "2                  10542.0                     1470.0   \n",
       "3                    336.0                       17.0   \n",
       "4                  62355.0                     9651.0   \n",
       "\n",
       "   Elementary school expense  Special Education expense  Elderly Care expense  \\\n",
       "0               3.685500e+08                   679000.0          3.226290e+08   \n",
       "1               1.620359e+09                  5402000.0          1.117856e+09   \n",
       "2               2.226985e+09                  4347000.0          1.442222e+09   \n",
       "3               2.612310e+08                  1201000.0          1.544170e+08   \n",
       "4               4.023751e+10                185958000.0          3.079757e+10   \n",
       "\n",
       "   Healthcare expense  Green Spaces expense  Infrastructure expense  \\\n",
       "0        1.710000e+06               28000.0            4.620600e+07   \n",
       "1        5.813900e+07             1610000.0            1.321290e+08   \n",
       "2        6.889600e+07             5633000.0            7.572200e+07   \n",
       "3        7.708000e+06               35000.0            2.605400e+07   \n",
       "4        1.427778e+09            77979000.0            3.265476e+09   \n",
       "\n",
       "   Social Services expense  \n",
       "0             3.589200e+07  \n",
       "1             1.346890e+08  \n",
       "2             1.139200e+08  \n",
       "3             3.010800e+07  \n",
       "4             4.115113e+09  \n",
       "\n",
       "[5 rows x 21 columns]"
      ]
     },
     "metadata": {},
     "output_type": "display_data"
    }
   ],
   "source": [
    "import requests\n",
    "import pandas as pd\n",
    "\n",
    "# Define the education level mappings\n",
    "education_level_names = {\n",
    "    \"H10\": \"Elementary school\",\n",
    "    \"H20\": \"High school education\",\n",
    "    \"H30\": \"Vocational Education\",\n",
    "    \"H40\": \"Short Higher Education\",\n",
    "    \"H50\": \"Intermediate Higher Education\",\n",
    "    \"H60\": \"Bachelor's programmes\",\n",
    "    \"H70\": \"Longer Higher Education\",\n",
    "    \"H80\": \"PhD and research programs\"\n",
    "}\n",
    "\n",
    "# Define the categories to extract related to real estate impact, along with their descriptions\n",
    "relevant_functions = {\n",
    "    \"32201\": \"Elementary school expense\",\n",
    "    \"32207\": \"Special Education expense\",\n",
    "    \"53027\": \"Elderly Care expense\",\n",
    "    \"46288\": \"Healthcare expense\",\n",
    "    \"03853\": \"Green Spaces expense\",\n",
    "    \"22811\": \"Infrastructure expense\",\n",
    "    \"53859\": \"Social Services expense\"\n",
    "}\n",
    "\n",
    "# Function to construct the API request URL\n",
    "def construct_link(table_id, variables):\n",
    "    base = f'https://api.statbank.dk/v1/data/{table_id}/JSONSTAT?lang=en'\n",
    "    for var in variables:\n",
    "        base += f'&{var}'\n",
    "    return base\n",
    "\n",
    "# Function to get weighted average age per municipality\n",
    "def get_weighted_average_age():\n",
    "    age_groups = [str(i) for i in range(101)]\n",
    "    age_weighted_sums = {}\n",
    "    total_population = {}\n",
    "    \n",
    "    # Initialize dictionaries for each municipality\n",
    "    url_initial = construct_link('FOLK1A', [f'Tid=2023K1', 'OMRÅDE=*', 'KØN=TOT', f'ALDER=0'])\n",
    "    response_initial = requests.get(url_initial)\n",
    "    if response_initial.status_code == 200:\n",
    "        data = response_initial.json()\n",
    "        municipalities = data['dataset']['dimension']['OMRÅDE']['category']['label'].values()\n",
    "        for municipality in municipalities:\n",
    "            age_weighted_sums[municipality] = 0\n",
    "            total_population[municipality] = 0\n",
    "\n",
    "    # Process each age group\n",
    "    for age in age_groups:\n",
    "        url = construct_link('FOLK1A', [f'Tid=2023K1', 'OMRÅDE=*', 'KØN=TOT', f'ALDER={age}'])\n",
    "        response = requests.get(url)\n",
    "        if response.status_code == 200:\n",
    "            data = response.json()\n",
    "            values = data['dataset']['value']\n",
    "            municipalities = data['dataset']['dimension']['OMRÅDE']['category']['label'].values()\n",
    "            for i, municipality in enumerate(municipalities):\n",
    "                age_weighted_sums[municipality] += int(age) * values[i]\n",
    "                total_population[municipality] += values[i]\n",
    "    \n",
    "    # Calculate the average age for each municipality\n",
    "    average_age_data = []\n",
    "    for municipality in municipalities:\n",
    "        if total_population[municipality] > 0:\n",
    "            avg_age = age_weighted_sums[municipality] / total_population[municipality]\n",
    "            average_age_data.append((municipality, avg_age))\n",
    "        else:\n",
    "            average_age_data.append((municipality, None))\n",
    "\n",
    "    df_average_age = pd.DataFrame(average_age_data, columns=[\"Municipality\", \"AverageAge\"])\n",
    "    return df_average_age\n",
    "\n",
    "# Function to get number of children under 18 per municipality\n",
    "def get_number_of_children():\n",
    "    age_groups = [str(i) for i in range(18)]\n",
    "    children_data = []\n",
    "\n",
    "    for age in age_groups:\n",
    "        url = construct_link('FOLK1A', [f'Tid=2023K1', 'OMRÅDE=*', 'KØN=TOT', f'ALDER={age}'])\n",
    "        response = requests.get(url)\n",
    "        if response.status_code == 200:\n",
    "            data = response.json()\n",
    "            values = data['dataset']['value']\n",
    "            if not children_data:\n",
    "                children_data = [0] * len(values)\n",
    "            children_data = [children_data[i] + values[i] for i in range(len(values))]\n",
    "\n",
    "    municipalities = data['dataset']['dimension']['OMRÅDE']['category']['label'].values()\n",
    "    df_children = pd.DataFrame(list(zip(municipalities, children_data)), columns=[\"Municipality\", \"NumberOfChildren\"])\n",
    "    return df_children\n",
    "\n",
    "# Function to get population by gender per municipality\n",
    "def get_population_by_gender():\n",
    "    url_men = construct_link('FOLK1A', ['Tid=2023K1', 'OMRÅDE=*', 'KØN=1', 'ALDER=IALT'])\n",
    "    url_women = construct_link('FOLK1A', ['Tid=2023K1', 'OMRÅDE=*', 'KØN=2', 'ALDER=IALT'])\n",
    "\n",
    "    response_men = requests.get(url_men)\n",
    "    response_women = requests.get(url_women)\n",
    "    \n",
    "    if response_men.status_code == 200 and response_women.status_code == 200:\n",
    "        data_men = response_men.json()\n",
    "        data_women = response_women.json()\n",
    "        values_men = data_men['dataset']['value']\n",
    "        values_women = data_women['dataset']['value']\n",
    "        municipalities = data_men['dataset']['dimension']['OMRÅDE']['category']['label'].values()\n",
    "\n",
    "        df_gender = pd.DataFrame(list(zip(municipalities, values_men, values_women)), columns=[\"Municipality\", \"Men\", \"Women\"])\n",
    "        return df_gender\n",
    "    else:\n",
    "        return pd.DataFrame(columns=[\"Municipality\", \"Men\", \"Women\"])\n",
    "\n",
    "# Function to get average income per municipality\n",
    "def get_average_income():\n",
    "    url = construct_link('INDKP105', ['Tid=2022', 'OMRÅDE=*', 'ENHED=118', 'KOEN=MOK', 'ALDER1=00', 'INDKINTB=000'])\n",
    "    response = requests.get(url)\n",
    "    if response.status_code == 200:\n",
    "        data = response.json()\n",
    "        values = data['dataset']['value']\n",
    "        municipalities = data['dataset']['dimension']['OMRÅDE']['category']['label'].values()\n",
    "        df_income = pd.DataFrame(list(zip(municipalities, values)), columns=[\"Municipality\", \"AverageIncome\"])\n",
    "        return df_income\n",
    "    else:\n",
    "        return pd.DataFrame(columns=[\"Municipality\", \"AverageIncome\"])\n",
    "\n",
    "# Function to get education data per level and municipality\n",
    "def get_education_data_by_level(education_level):\n",
    "    url = construct_link('UDDAKT10', ['Tid=2022', 'BOPOMR=*', f'UDDANNELSE={education_level}', 'ALDER=TOT', 'KØN=10', 'FSTATUS=B'])\n",
    "    response = requests.get(url)\n",
    "    if response.status_code == 200:\n",
    "        data = response.json()\n",
    "        values = data['dataset']['value']\n",
    "        municipalities = data['dataset']['dimension']['BOPOMR']['category']['label'].values()\n",
    "        df = pd.DataFrame(list(zip(municipalities, values)), columns=[\"Municipality\", education_level])\n",
    "        return df\n",
    "    else:\n",
    "        return pd.DataFrame(columns=[\"Municipality\", education_level])\n",
    "\n",
    "# Function to get budget data per function\n",
    "def get_municipal_budget_data_by_function(function_code, description):\n",
    "    url = construct_link('BUDK32', [f'Tid=2023', f'FUNKTION={function_code}', 'REGI07A=*', 'DRANST=1', 'ART=UE', 'PRISENHED=LOBM'])\n",
    "    \n",
    "    response = requests.get(url)\n",
    "    if response.status_code == 200:\n",
    "        data = response.json()\n",
    "        values = data['dataset']['value']\n",
    "        municipalities = data['dataset']['dimension']['REGI07A']['category']['label'].values()\n",
    "        \n",
    "        # Multiply the values by 1,000 and create a DataFrame with the proper column name\n",
    "        df = pd.DataFrame(list(zip(municipalities, [v * 1000 for v in values])), columns=[\"Municipality\", description])\n",
    "        return df\n",
    "    else:\n",
    "        print(f\"Error fetching data for function {description}: {response.status_code}\")\n",
    "        return pd.DataFrame(columns=[\"Municipality\", description])\n",
    "\n",
    "# Combine demographic, income, education and budget data into one dataset\n",
    "def combine_all_data():\n",
    "    df_age = get_weighted_average_age()\n",
    "    df_children = get_number_of_children()\n",
    "    df_gender = get_population_by_gender()\n",
    "    df_income = get_average_income()\n",
    "\n",
    "    # Merge demographic and income datasets\n",
    "    df_combined = df_age.merge(df_children, on=\"Municipality\", how='outer')\\\n",
    "                        .merge(df_gender, on=\"Municipality\", how='outer')\\\n",
    "                        .merge(df_income, on=\"Municipality\", how=\"outer\")\n",
    "    \n",
    "    # Get all education levels\n",
    "    education_levels = [\"H10\", \"H20\", \"H30\", \"H40\", \"H50\", \"H60\", \"H70\", \"H80\"]\n",
    "    df_education_combined = None\n",
    "    for level in education_levels:\n",
    "        df_level = get_education_data_by_level(level)\n",
    "        if df_education_combined is None:\n",
    "            df_education_combined = df_level\n",
    "        else:\n",
    "            df_education_combined = pd.merge(df_education_combined, df_level, on=\"Municipality\", how=\"outer\")\n",
    "\n",
    "    # Rename the education columns to their proper names\n",
    "    df_education_combined.rename(columns=education_level_names, inplace=True)\n",
    "\n",
    "    # Merge education data into the combined dataset\n",
    "    df_final_combined = pd.merge(df_combined, df_education_combined, on=\"Municipality\", how=\"left\")\n",
    "\n",
    "    # Retrieve budget data for all relevant functions and merge them into the dataset\n",
    "    df_budget_combined = None\n",
    "    for function_code, description in relevant_functions.items():\n",
    "        df_function = get_municipal_budget_data_by_function(function_code, description)\n",
    "        if df_budget_combined is None:\n",
    "            df_budget_combined = df_function\n",
    "        else:\n",
    "            df_budget_combined = pd.merge(df_budget_combined, df_function, on=\"Municipality\", how=\"outer\")\n",
    "\n",
    "    # Merge the final combined data with the budget data\n",
    "    df_final_combined = pd.merge(df_final_combined, df_budget_combined, on=\"Municipality\", how=\"left\")\n",
    "    \n",
    "    return df_final_combined\n",
    "\n",
    "# Get the final combined data\n",
    "df_final_data = combine_all_data()\n",
    "\n",
    "# Display the final combined dataset\n",
    "display(df_final_data.head())\n"
   ]
  },
  {
   "cell_type": "code",
   "execution_count": 6,
   "id": "b0065d73-182c-4d23-a7a2-7004be37999e",
   "metadata": {},
   "outputs": [
    {
     "data": {
      "text/html": [
       "<div>\n",
       "<style scoped>\n",
       "    .dataframe tbody tr th:only-of-type {\n",
       "        vertical-align: middle;\n",
       "    }\n",
       "\n",
       "    .dataframe tbody tr th {\n",
       "        vertical-align: top;\n",
       "    }\n",
       "\n",
       "    .dataframe thead th {\n",
       "        text-align: right;\n",
       "    }\n",
       "</style>\n",
       "<table border=\"1\" class=\"dataframe\">\n",
       "  <thead>\n",
       "    <tr style=\"text-align: right;\">\n",
       "      <th></th>\n",
       "      <th>Municipality</th>\n",
       "      <th>AverageAge</th>\n",
       "      <th>NumberOfChildren</th>\n",
       "      <th>Men</th>\n",
       "      <th>Women</th>\n",
       "      <th>AverageIncome</th>\n",
       "      <th>Elementary school</th>\n",
       "      <th>High school education</th>\n",
       "      <th>Vocational Education</th>\n",
       "      <th>Short Higher Education</th>\n",
       "      <th>...</th>\n",
       "      <th>Bachelor's programmes</th>\n",
       "      <th>Longer Higher Education</th>\n",
       "      <th>PhD and research programs</th>\n",
       "      <th>Elementary school expense</th>\n",
       "      <th>Special Education expense</th>\n",
       "      <th>Elderly Care expense</th>\n",
       "      <th>Healthcare expense</th>\n",
       "      <th>Green Spaces expense</th>\n",
       "      <th>Infrastructure expense</th>\n",
       "      <th>Social Services expense</th>\n",
       "    </tr>\n",
       "  </thead>\n",
       "  <tbody>\n",
       "    <tr>\n",
       "      <th>13</th>\n",
       "      <td>København</td>\n",
       "      <td>35.955329</td>\n",
       "      <td>110835.0</td>\n",
       "      <td>321808.0</td>\n",
       "      <td>331856.0</td>\n",
       "      <td>383030.0</td>\n",
       "      <td>58089.0</td>\n",
       "      <td>11631.0</td>\n",
       "      <td>7878.0</td>\n",
       "      <td>4449.0</td>\n",
       "      <td>...</td>\n",
       "      <td>24159.0</td>\n",
       "      <td>22620.0</td>\n",
       "      <td>3205.0</td>\n",
       "      <td>3.263755e+09</td>\n",
       "      <td>25776000.0</td>\n",
       "      <td>2.885633e+09</td>\n",
       "      <td>303507000.0</td>\n",
       "      <td>0.0</td>\n",
       "      <td>342198000.0</td>\n",
       "      <td>443020000.0</td>\n",
       "    </tr>\n",
       "  </tbody>\n",
       "</table>\n",
       "<p>1 rows × 21 columns</p>\n",
       "</div>"
      ],
      "text/plain": [
       "   Municipality  AverageAge  NumberOfChildren       Men     Women  \\\n",
       "13    København   35.955329          110835.0  321808.0  331856.0   \n",
       "\n",
       "    AverageIncome  Elementary school  High school education  \\\n",
       "13       383030.0            58089.0                11631.0   \n",
       "\n",
       "    Vocational Education  Short Higher Education  ...  Bachelor's programmes  \\\n",
       "13                7878.0                  4449.0  ...                24159.0   \n",
       "\n",
       "    Longer Higher Education  PhD and research programs  \\\n",
       "13                  22620.0                     3205.0   \n",
       "\n",
       "    Elementary school expense  Special Education expense  \\\n",
       "13               3.263755e+09                 25776000.0   \n",
       "\n",
       "    Elderly Care expense  Healthcare expense  Green Spaces expense  \\\n",
       "13          2.885633e+09         303507000.0                   0.0   \n",
       "\n",
       "    Infrastructure expense  Social Services expense  \n",
       "13             342198000.0              443020000.0  \n",
       "\n",
       "[1 rows x 21 columns]"
      ]
     },
     "metadata": {},
     "output_type": "display_data"
    }
   ],
   "source": [
    "# Replace 'Copenhagen' with 'København' in the 'Municipality' column\n",
    "df_final_data['Municipality'] = df_final_data['Municipality'].replace('Copenhagen', 'København')\n",
    "\n",
    "# Check if the change was successful\n",
    "display(df_final_data[df_final_data['Municipality'] == 'København'])\n"
   ]
  },
  {
   "cell_type": "code",
   "execution_count": 7,
   "id": "b66c484c-b925-4e16-804c-2d5e5018b677",
   "metadata": {},
   "outputs": [
    {
     "data": {
      "text/plain": [
       "'Aabenraa'"
      ]
     },
     "metadata": {},
     "output_type": "display_data"
    },
    {
     "data": {
      "text/plain": [
       "'Aalborg'"
      ]
     },
     "metadata": {},
     "output_type": "display_data"
    },
    {
     "data": {
      "text/plain": [
       "'Aarhus'"
      ]
     },
     "metadata": {},
     "output_type": "display_data"
    },
    {
     "data": {
      "text/plain": [
       "'Albertslund'"
      ]
     },
     "metadata": {},
     "output_type": "display_data"
    },
    {
     "data": {
      "text/plain": [
       "'All Denmark'"
      ]
     },
     "metadata": {},
     "output_type": "display_data"
    },
    {
     "data": {
      "text/plain": [
       "'Allerød'"
      ]
     },
     "metadata": {},
     "output_type": "display_data"
    },
    {
     "data": {
      "text/plain": [
       "'Assens'"
      ]
     },
     "metadata": {},
     "output_type": "display_data"
    },
    {
     "data": {
      "text/plain": [
       "'Ballerup'"
      ]
     },
     "metadata": {},
     "output_type": "display_data"
    },
    {
     "data": {
      "text/plain": [
       "'Billund'"
      ]
     },
     "metadata": {},
     "output_type": "display_data"
    },
    {
     "data": {
      "text/plain": [
       "'Bornholm'"
      ]
     },
     "metadata": {},
     "output_type": "display_data"
    },
    {
     "data": {
      "text/plain": [
       "'Brøndby'"
      ]
     },
     "metadata": {},
     "output_type": "display_data"
    },
    {
     "data": {
      "text/plain": [
       "'Brønderslev'"
      ]
     },
     "metadata": {},
     "output_type": "display_data"
    },
    {
     "data": {
      "text/plain": [
       "'Christiansø'"
      ]
     },
     "metadata": {},
     "output_type": "display_data"
    },
    {
     "data": {
      "text/plain": [
       "'Copenhagen'"
      ]
     },
     "metadata": {},
     "output_type": "display_data"
    },
    {
     "data": {
      "text/plain": [
       "'Dragør'"
      ]
     },
     "metadata": {},
     "output_type": "display_data"
    },
    {
     "data": {
      "text/plain": [
       "'Egedal'"
      ]
     },
     "metadata": {},
     "output_type": "display_data"
    },
    {
     "data": {
      "text/plain": [
       "'Esbjerg'"
      ]
     },
     "metadata": {},
     "output_type": "display_data"
    },
    {
     "data": {
      "text/plain": [
       "'Faaborg-Midtfyn'"
      ]
     },
     "metadata": {},
     "output_type": "display_data"
    },
    {
     "data": {
      "text/plain": [
       "'Fanø'"
      ]
     },
     "metadata": {},
     "output_type": "display_data"
    },
    {
     "data": {
      "text/plain": [
       "'Favrskov'"
      ]
     },
     "metadata": {},
     "output_type": "display_data"
    },
    {
     "data": {
      "text/plain": [
       "'Faxe'"
      ]
     },
     "metadata": {},
     "output_type": "display_data"
    },
    {
     "data": {
      "text/plain": [
       "'Fredensborg'"
      ]
     },
     "metadata": {},
     "output_type": "display_data"
    },
    {
     "data": {
      "text/plain": [
       "'Fredericia'"
      ]
     },
     "metadata": {},
     "output_type": "display_data"
    },
    {
     "data": {
      "text/plain": [
       "'Frederiksberg'"
      ]
     },
     "metadata": {},
     "output_type": "display_data"
    },
    {
     "data": {
      "text/plain": [
       "'Frederikshavn'"
      ]
     },
     "metadata": {},
     "output_type": "display_data"
    },
    {
     "data": {
      "text/plain": [
       "'Frederikssund'"
      ]
     },
     "metadata": {},
     "output_type": "display_data"
    },
    {
     "data": {
      "text/plain": [
       "'Furesø'"
      ]
     },
     "metadata": {},
     "output_type": "display_data"
    },
    {
     "data": {
      "text/plain": [
       "'Gentofte'"
      ]
     },
     "metadata": {},
     "output_type": "display_data"
    },
    {
     "data": {
      "text/plain": [
       "'Gladsaxe'"
      ]
     },
     "metadata": {},
     "output_type": "display_data"
    },
    {
     "data": {
      "text/plain": [
       "'Glostrup'"
      ]
     },
     "metadata": {},
     "output_type": "display_data"
    },
    {
     "data": {
      "text/plain": [
       "'Greve'"
      ]
     },
     "metadata": {},
     "output_type": "display_data"
    },
    {
     "data": {
      "text/plain": [
       "'Gribskov'"
      ]
     },
     "metadata": {},
     "output_type": "display_data"
    },
    {
     "data": {
      "text/plain": [
       "'Guldborgsund'"
      ]
     },
     "metadata": {},
     "output_type": "display_data"
    },
    {
     "data": {
      "text/plain": [
       "'Haderslev'"
      ]
     },
     "metadata": {},
     "output_type": "display_data"
    },
    {
     "data": {
      "text/plain": [
       "'Halsnæs'"
      ]
     },
     "metadata": {},
     "output_type": "display_data"
    },
    {
     "data": {
      "text/plain": [
       "'Hedensted'"
      ]
     },
     "metadata": {},
     "output_type": "display_data"
    },
    {
     "data": {
      "text/plain": [
       "'Helsingør'"
      ]
     },
     "metadata": {},
     "output_type": "display_data"
    },
    {
     "data": {
      "text/plain": [
       "'Herlev'"
      ]
     },
     "metadata": {},
     "output_type": "display_data"
    },
    {
     "data": {
      "text/plain": [
       "'Herning'"
      ]
     },
     "metadata": {},
     "output_type": "display_data"
    },
    {
     "data": {
      "text/plain": [
       "'Hillerød'"
      ]
     },
     "metadata": {},
     "output_type": "display_data"
    },
    {
     "data": {
      "text/plain": [
       "'Hjørring'"
      ]
     },
     "metadata": {},
     "output_type": "display_data"
    },
    {
     "data": {
      "text/plain": [
       "'Holbæk'"
      ]
     },
     "metadata": {},
     "output_type": "display_data"
    },
    {
     "data": {
      "text/plain": [
       "'Holstebro'"
      ]
     },
     "metadata": {},
     "output_type": "display_data"
    },
    {
     "data": {
      "text/plain": [
       "'Horsens'"
      ]
     },
     "metadata": {},
     "output_type": "display_data"
    },
    {
     "data": {
      "text/plain": [
       "'Hvidovre'"
      ]
     },
     "metadata": {},
     "output_type": "display_data"
    },
    {
     "data": {
      "text/plain": [
       "'Høje-Taastrup'"
      ]
     },
     "metadata": {},
     "output_type": "display_data"
    },
    {
     "data": {
      "text/plain": [
       "'Hørsholm'"
      ]
     },
     "metadata": {},
     "output_type": "display_data"
    },
    {
     "data": {
      "text/plain": [
       "'Ikast-Brande'"
      ]
     },
     "metadata": {},
     "output_type": "display_data"
    },
    {
     "data": {
      "text/plain": [
       "'Ishøj'"
      ]
     },
     "metadata": {},
     "output_type": "display_data"
    },
    {
     "data": {
      "text/plain": [
       "'Jammerbugt'"
      ]
     },
     "metadata": {},
     "output_type": "display_data"
    },
    {
     "data": {
      "text/plain": [
       "'Kalundborg'"
      ]
     },
     "metadata": {},
     "output_type": "display_data"
    },
    {
     "data": {
      "text/plain": [
       "'Kerteminde'"
      ]
     },
     "metadata": {},
     "output_type": "display_data"
    },
    {
     "data": {
      "text/plain": [
       "'Kolding'"
      ]
     },
     "metadata": {},
     "output_type": "display_data"
    },
    {
     "data": {
      "text/plain": [
       "'Køge'"
      ]
     },
     "metadata": {},
     "output_type": "display_data"
    },
    {
     "data": {
      "text/plain": [
       "'Langeland'"
      ]
     },
     "metadata": {},
     "output_type": "display_data"
    },
    {
     "data": {
      "text/plain": [
       "'Lejre'"
      ]
     },
     "metadata": {},
     "output_type": "display_data"
    },
    {
     "data": {
      "text/plain": [
       "'Lemvig'"
      ]
     },
     "metadata": {},
     "output_type": "display_data"
    },
    {
     "data": {
      "text/plain": [
       "'Lolland'"
      ]
     },
     "metadata": {},
     "output_type": "display_data"
    },
    {
     "data": {
      "text/plain": [
       "'Lyngby-Taarbæk'"
      ]
     },
     "metadata": {},
     "output_type": "display_data"
    },
    {
     "data": {
      "text/plain": [
       "'Læsø'"
      ]
     },
     "metadata": {},
     "output_type": "display_data"
    },
    {
     "data": {
      "text/plain": [
       "'Mariagerfjord'"
      ]
     },
     "metadata": {},
     "output_type": "display_data"
    },
    {
     "data": {
      "text/plain": [
       "'Middelfart'"
      ]
     },
     "metadata": {},
     "output_type": "display_data"
    },
    {
     "data": {
      "text/plain": [
       "'Morsø'"
      ]
     },
     "metadata": {},
     "output_type": "display_data"
    },
    {
     "data": {
      "text/plain": [
       "'Norddjurs'"
      ]
     },
     "metadata": {},
     "output_type": "display_data"
    },
    {
     "data": {
      "text/plain": [
       "'Nordfyns'"
      ]
     },
     "metadata": {},
     "output_type": "display_data"
    },
    {
     "data": {
      "text/plain": [
       "'Nyborg'"
      ]
     },
     "metadata": {},
     "output_type": "display_data"
    },
    {
     "data": {
      "text/plain": [
       "'Næstved'"
      ]
     },
     "metadata": {},
     "output_type": "display_data"
    },
    {
     "data": {
      "text/plain": [
       "'Odder'"
      ]
     },
     "metadata": {},
     "output_type": "display_data"
    },
    {
     "data": {
      "text/plain": [
       "'Odense'"
      ]
     },
     "metadata": {},
     "output_type": "display_data"
    },
    {
     "data": {
      "text/plain": [
       "'Odsherred'"
      ]
     },
     "metadata": {},
     "output_type": "display_data"
    },
    {
     "data": {
      "text/plain": [
       "'Province Bornholm'"
      ]
     },
     "metadata": {},
     "output_type": "display_data"
    },
    {
     "data": {
      "text/plain": [
       "'Province Byen København'"
      ]
     },
     "metadata": {},
     "output_type": "display_data"
    },
    {
     "data": {
      "text/plain": [
       "'Province Fyn'"
      ]
     },
     "metadata": {},
     "output_type": "display_data"
    },
    {
     "data": {
      "text/plain": [
       "'Province Københavns omegn'"
      ]
     },
     "metadata": {},
     "output_type": "display_data"
    },
    {
     "data": {
      "text/plain": [
       "'Province Nordjylland'"
      ]
     },
     "metadata": {},
     "output_type": "display_data"
    },
    {
     "data": {
      "text/plain": [
       "'Province Nordsjælland'"
      ]
     },
     "metadata": {},
     "output_type": "display_data"
    },
    {
     "data": {
      "text/plain": [
       "'Province Sydjylland'"
      ]
     },
     "metadata": {},
     "output_type": "display_data"
    },
    {
     "data": {
      "text/plain": [
       "'Province Vest- og Sydsjælland'"
      ]
     },
     "metadata": {},
     "output_type": "display_data"
    },
    {
     "data": {
      "text/plain": [
       "'Province Vestjylland'"
      ]
     },
     "metadata": {},
     "output_type": "display_data"
    },
    {
     "data": {
      "text/plain": [
       "'Province Østjylland'"
      ]
     },
     "metadata": {},
     "output_type": "display_data"
    },
    {
     "data": {
      "text/plain": [
       "'Province Østsjælland'"
      ]
     },
     "metadata": {},
     "output_type": "display_data"
    },
    {
     "data": {
      "text/plain": [
       "'Randers'"
      ]
     },
     "metadata": {},
     "output_type": "display_data"
    },
    {
     "data": {
      "text/plain": [
       "'Rebild'"
      ]
     },
     "metadata": {},
     "output_type": "display_data"
    },
    {
     "data": {
      "text/plain": [
       "'Region Hovedstaden'"
      ]
     },
     "metadata": {},
     "output_type": "display_data"
    },
    {
     "data": {
      "text/plain": [
       "'Region Midtjylland'"
      ]
     },
     "metadata": {},
     "output_type": "display_data"
    },
    {
     "data": {
      "text/plain": [
       "'Region Nordjylland'"
      ]
     },
     "metadata": {},
     "output_type": "display_data"
    },
    {
     "data": {
      "text/plain": [
       "'Region Sjælland'"
      ]
     },
     "metadata": {},
     "output_type": "display_data"
    },
    {
     "data": {
      "text/plain": [
       "'Region Syddanmark'"
      ]
     },
     "metadata": {},
     "output_type": "display_data"
    },
    {
     "data": {
      "text/plain": [
       "'Ringkøbing-Skjern'"
      ]
     },
     "metadata": {},
     "output_type": "display_data"
    },
    {
     "data": {
      "text/plain": [
       "'Ringsted'"
      ]
     },
     "metadata": {},
     "output_type": "display_data"
    },
    {
     "data": {
      "text/plain": [
       "'Roskilde'"
      ]
     },
     "metadata": {},
     "output_type": "display_data"
    },
    {
     "data": {
      "text/plain": [
       "'Rudersdal'"
      ]
     },
     "metadata": {},
     "output_type": "display_data"
    },
    {
     "data": {
      "text/plain": [
       "'Rødovre'"
      ]
     },
     "metadata": {},
     "output_type": "display_data"
    },
    {
     "data": {
      "text/plain": [
       "'Samsø'"
      ]
     },
     "metadata": {},
     "output_type": "display_data"
    },
    {
     "data": {
      "text/plain": [
       "'Silkeborg'"
      ]
     },
     "metadata": {},
     "output_type": "display_data"
    },
    {
     "data": {
      "text/plain": [
       "'Skanderborg'"
      ]
     },
     "metadata": {},
     "output_type": "display_data"
    },
    {
     "data": {
      "text/plain": [
       "'Skive'"
      ]
     },
     "metadata": {},
     "output_type": "display_data"
    },
    {
     "data": {
      "text/plain": [
       "'Slagelse'"
      ]
     },
     "metadata": {},
     "output_type": "display_data"
    },
    {
     "data": {
      "text/plain": [
       "'Solrød'"
      ]
     },
     "metadata": {},
     "output_type": "display_data"
    },
    {
     "data": {
      "text/plain": [
       "'Sorø'"
      ]
     },
     "metadata": {},
     "output_type": "display_data"
    },
    {
     "data": {
      "text/plain": [
       "'Stevns'"
      ]
     },
     "metadata": {},
     "output_type": "display_data"
    },
    {
     "data": {
      "text/plain": [
       "'Struer'"
      ]
     },
     "metadata": {},
     "output_type": "display_data"
    },
    {
     "data": {
      "text/plain": [
       "'Svendborg'"
      ]
     },
     "metadata": {},
     "output_type": "display_data"
    },
    {
     "data": {
      "text/plain": [
       "'Syddjurs'"
      ]
     },
     "metadata": {},
     "output_type": "display_data"
    },
    {
     "data": {
      "text/plain": [
       "'Sønderborg'"
      ]
     },
     "metadata": {},
     "output_type": "display_data"
    },
    {
     "data": {
      "text/plain": [
       "'Thisted'"
      ]
     },
     "metadata": {},
     "output_type": "display_data"
    },
    {
     "data": {
      "text/plain": [
       "'Tårnby'"
      ]
     },
     "metadata": {},
     "output_type": "display_data"
    },
    {
     "data": {
      "text/plain": [
       "'Tønder'"
      ]
     },
     "metadata": {},
     "output_type": "display_data"
    },
    {
     "data": {
      "text/plain": [
       "'Vallensbæk'"
      ]
     },
     "metadata": {},
     "output_type": "display_data"
    },
    {
     "data": {
      "text/plain": [
       "'Varde'"
      ]
     },
     "metadata": {},
     "output_type": "display_data"
    },
    {
     "data": {
      "text/plain": [
       "'Vejen'"
      ]
     },
     "metadata": {},
     "output_type": "display_data"
    },
    {
     "data": {
      "text/plain": [
       "'Vejle'"
      ]
     },
     "metadata": {},
     "output_type": "display_data"
    },
    {
     "data": {
      "text/plain": [
       "'Vesthimmerlands'"
      ]
     },
     "metadata": {},
     "output_type": "display_data"
    },
    {
     "data": {
      "text/plain": [
       "'Viborg'"
      ]
     },
     "metadata": {},
     "output_type": "display_data"
    },
    {
     "data": {
      "text/plain": [
       "'Vordingborg'"
      ]
     },
     "metadata": {},
     "output_type": "display_data"
    },
    {
     "data": {
      "text/plain": [
       "'Ærø'"
      ]
     },
     "metadata": {},
     "output_type": "display_data"
    }
   ],
   "source": [
    "municipalities = df_combined[\"Municipality\"].unique()\n",
    "for municipality in municipalities:\n",
    "    display(municipality)"
   ]
  },
  {
   "cell_type": "code",
   "execution_count": 8,
   "id": "c31632bb-b3c6-4041-af01-4b963c3f65c7",
   "metadata": {},
   "outputs": [
    {
     "name": "stdout",
     "output_type": "stream",
     "text": [
      "     Kommune  Postnummer\n",
      "0  København        1050\n",
      "1  København        1051\n",
      "2  København        1052\n",
      "3  København        1053\n",
      "4  København        1054\n",
      "Index(['Kommune', 'Postnummer'], dtype='object')\n"
     ]
    }
   ],
   "source": [
    "import pandas as pd\n",
    "\n",
    "# Load the Excel file using a relative path\n",
    "df_zipcodes = pd.read_excel('kommuner_zip_codes.xlsx')\n",
    "\n",
    "# Display the first few rows to verify the data\n",
    "print(df_zipcodes.head())\n",
    "\n",
    "# Optional: Check the column names to make sure everything is loaded correctly\n",
    "print(df_zipcodes.columns)"
   ]
  },
  {
   "cell_type": "code",
   "execution_count": 9,
   "id": "3f940eb0-7664-49a3-b1ba-ec7850562566",
   "metadata": {},
   "outputs": [
    {
     "data": {
      "text/html": [
       "<div>\n",
       "<style scoped>\n",
       "    .dataframe tbody tr th:only-of-type {\n",
       "        vertical-align: middle;\n",
       "    }\n",
       "\n",
       "    .dataframe tbody tr th {\n",
       "        vertical-align: top;\n",
       "    }\n",
       "\n",
       "    .dataframe thead th {\n",
       "        text-align: right;\n",
       "    }\n",
       "</style>\n",
       "<table border=\"1\" class=\"dataframe\">\n",
       "  <thead>\n",
       "    <tr style=\"text-align: right;\">\n",
       "      <th></th>\n",
       "      <th>Municipality</th>\n",
       "      <th>AverageAge</th>\n",
       "      <th>NumberOfChildren</th>\n",
       "      <th>Men</th>\n",
       "      <th>Women</th>\n",
       "      <th>AverageIncome</th>\n",
       "      <th>Elementary school</th>\n",
       "      <th>High school education</th>\n",
       "      <th>Vocational Education</th>\n",
       "      <th>Short Higher Education</th>\n",
       "      <th>...</th>\n",
       "      <th>Longer Higher Education</th>\n",
       "      <th>PhD and research programs</th>\n",
       "      <th>Elementary school expense</th>\n",
       "      <th>Special Education expense</th>\n",
       "      <th>Elderly Care expense</th>\n",
       "      <th>Healthcare expense</th>\n",
       "      <th>Green Spaces expense</th>\n",
       "      <th>Infrastructure expense</th>\n",
       "      <th>Social Services expense</th>\n",
       "      <th>Postnummer</th>\n",
       "    </tr>\n",
       "  </thead>\n",
       "  <tbody>\n",
       "    <tr>\n",
       "      <th>0</th>\n",
       "      <td>Aabenraa</td>\n",
       "      <td>44.442998</td>\n",
       "      <td>11416.0</td>\n",
       "      <td>29422.0</td>\n",
       "      <td>29580.0</td>\n",
       "      <td>337605.0</td>\n",
       "      <td>6870.0</td>\n",
       "      <td>1357.0</td>\n",
       "      <td>1076.0</td>\n",
       "      <td>70.0</td>\n",
       "      <td>...</td>\n",
       "      <td>49.0</td>\n",
       "      <td>8.0</td>\n",
       "      <td>368550000.0</td>\n",
       "      <td>679000.0</td>\n",
       "      <td>322629000.0</td>\n",
       "      <td>1710000.0</td>\n",
       "      <td>28000.0</td>\n",
       "      <td>46206000.0</td>\n",
       "      <td>35892000.0</td>\n",
       "      <td>6200.0</td>\n",
       "    </tr>\n",
       "    <tr>\n",
       "      <th>1</th>\n",
       "      <td>Aabenraa</td>\n",
       "      <td>44.442998</td>\n",
       "      <td>11416.0</td>\n",
       "      <td>29422.0</td>\n",
       "      <td>29580.0</td>\n",
       "      <td>337605.0</td>\n",
       "      <td>6870.0</td>\n",
       "      <td>1357.0</td>\n",
       "      <td>1076.0</td>\n",
       "      <td>70.0</td>\n",
       "      <td>...</td>\n",
       "      <td>49.0</td>\n",
       "      <td>8.0</td>\n",
       "      <td>368550000.0</td>\n",
       "      <td>679000.0</td>\n",
       "      <td>322629000.0</td>\n",
       "      <td>1710000.0</td>\n",
       "      <td>28000.0</td>\n",
       "      <td>46206000.0</td>\n",
       "      <td>35892000.0</td>\n",
       "      <td>6210.0</td>\n",
       "    </tr>\n",
       "    <tr>\n",
       "      <th>2</th>\n",
       "      <td>Aabenraa</td>\n",
       "      <td>44.442998</td>\n",
       "      <td>11416.0</td>\n",
       "      <td>29422.0</td>\n",
       "      <td>29580.0</td>\n",
       "      <td>337605.0</td>\n",
       "      <td>6870.0</td>\n",
       "      <td>1357.0</td>\n",
       "      <td>1076.0</td>\n",
       "      <td>70.0</td>\n",
       "      <td>...</td>\n",
       "      <td>49.0</td>\n",
       "      <td>8.0</td>\n",
       "      <td>368550000.0</td>\n",
       "      <td>679000.0</td>\n",
       "      <td>322629000.0</td>\n",
       "      <td>1710000.0</td>\n",
       "      <td>28000.0</td>\n",
       "      <td>46206000.0</td>\n",
       "      <td>35892000.0</td>\n",
       "      <td>6230.0</td>\n",
       "    </tr>\n",
       "    <tr>\n",
       "      <th>3</th>\n",
       "      <td>Aabenraa</td>\n",
       "      <td>44.442998</td>\n",
       "      <td>11416.0</td>\n",
       "      <td>29422.0</td>\n",
       "      <td>29580.0</td>\n",
       "      <td>337605.0</td>\n",
       "      <td>6870.0</td>\n",
       "      <td>1357.0</td>\n",
       "      <td>1076.0</td>\n",
       "      <td>70.0</td>\n",
       "      <td>...</td>\n",
       "      <td>49.0</td>\n",
       "      <td>8.0</td>\n",
       "      <td>368550000.0</td>\n",
       "      <td>679000.0</td>\n",
       "      <td>322629000.0</td>\n",
       "      <td>1710000.0</td>\n",
       "      <td>28000.0</td>\n",
       "      <td>46206000.0</td>\n",
       "      <td>35892000.0</td>\n",
       "      <td>6330.0</td>\n",
       "    </tr>\n",
       "    <tr>\n",
       "      <th>4</th>\n",
       "      <td>Aabenraa</td>\n",
       "      <td>44.442998</td>\n",
       "      <td>11416.0</td>\n",
       "      <td>29422.0</td>\n",
       "      <td>29580.0</td>\n",
       "      <td>337605.0</td>\n",
       "      <td>6870.0</td>\n",
       "      <td>1357.0</td>\n",
       "      <td>1076.0</td>\n",
       "      <td>70.0</td>\n",
       "      <td>...</td>\n",
       "      <td>49.0</td>\n",
       "      <td>8.0</td>\n",
       "      <td>368550000.0</td>\n",
       "      <td>679000.0</td>\n",
       "      <td>322629000.0</td>\n",
       "      <td>1710000.0</td>\n",
       "      <td>28000.0</td>\n",
       "      <td>46206000.0</td>\n",
       "      <td>35892000.0</td>\n",
       "      <td>6340.0</td>\n",
       "    </tr>\n",
       "  </tbody>\n",
       "</table>\n",
       "<p>5 rows × 22 columns</p>\n",
       "</div>"
      ],
      "text/plain": [
       "  Municipality  AverageAge  NumberOfChildren      Men    Women  AverageIncome  \\\n",
       "0     Aabenraa   44.442998           11416.0  29422.0  29580.0       337605.0   \n",
       "1     Aabenraa   44.442998           11416.0  29422.0  29580.0       337605.0   \n",
       "2     Aabenraa   44.442998           11416.0  29422.0  29580.0       337605.0   \n",
       "3     Aabenraa   44.442998           11416.0  29422.0  29580.0       337605.0   \n",
       "4     Aabenraa   44.442998           11416.0  29422.0  29580.0       337605.0   \n",
       "\n",
       "   Elementary school  High school education  Vocational Education  \\\n",
       "0             6870.0                 1357.0                1076.0   \n",
       "1             6870.0                 1357.0                1076.0   \n",
       "2             6870.0                 1357.0                1076.0   \n",
       "3             6870.0                 1357.0                1076.0   \n",
       "4             6870.0                 1357.0                1076.0   \n",
       "\n",
       "   Short Higher Education  ...  Longer Higher Education  \\\n",
       "0                    70.0  ...                     49.0   \n",
       "1                    70.0  ...                     49.0   \n",
       "2                    70.0  ...                     49.0   \n",
       "3                    70.0  ...                     49.0   \n",
       "4                    70.0  ...                     49.0   \n",
       "\n",
       "   PhD and research programs  Elementary school expense  \\\n",
       "0                        8.0                368550000.0   \n",
       "1                        8.0                368550000.0   \n",
       "2                        8.0                368550000.0   \n",
       "3                        8.0                368550000.0   \n",
       "4                        8.0                368550000.0   \n",
       "\n",
       "   Special Education expense  Elderly Care expense  Healthcare expense  \\\n",
       "0                   679000.0           322629000.0           1710000.0   \n",
       "1                   679000.0           322629000.0           1710000.0   \n",
       "2                   679000.0           322629000.0           1710000.0   \n",
       "3                   679000.0           322629000.0           1710000.0   \n",
       "4                   679000.0           322629000.0           1710000.0   \n",
       "\n",
       "   Green Spaces expense  Infrastructure expense  Social Services expense  \\\n",
       "0               28000.0              46206000.0               35892000.0   \n",
       "1               28000.0              46206000.0               35892000.0   \n",
       "2               28000.0              46206000.0               35892000.0   \n",
       "3               28000.0              46206000.0               35892000.0   \n",
       "4               28000.0              46206000.0               35892000.0   \n",
       "\n",
       "   Postnummer  \n",
       "0      6200.0  \n",
       "1      6210.0  \n",
       "2      6230.0  \n",
       "3      6330.0  \n",
       "4      6340.0  \n",
       "\n",
       "[5 rows x 22 columns]"
      ]
     },
     "metadata": {},
     "output_type": "display_data"
    }
   ],
   "source": [
    "# Load the zip code dataframe\n",
    "df_zipcodes = pd.read_excel('kommuner_zip_codes.xlsx')\n",
    "\n",
    "# Rename the 'Kommune' column in df_zipcodes to match 'Municipality' in df_final_data\n",
    "df_zipcodes.rename(columns={'Kommune': 'Municipality'}, inplace=True)\n",
    "\n",
    "# Merge the two dataframes on the 'Municipality' column\n",
    "df_merged = pd.merge(df_final_data, df_zipcodes, on='Municipality', how='left')\n",
    "\n",
    "# Save or display the resulting merged dataframe\n",
    "display(df_merged.head())\n",
    "\n",
    "# Optional: Save the merged dataframe to a new Excel file if needed\n",
    "df_merged.to_excel('final_merged_data.xlsx', index=False)\n"
   ]
  },
  {
   "cell_type": "code",
   "execution_count": 10,
   "id": "1757b790-2231-4929-8abb-914fe7fb74e1",
   "metadata": {},
   "outputs": [
    {
     "name": "stdout",
     "output_type": "stream",
     "text": [
      "Index(['Municipality', 'AverageAge', 'NumberOfChildren', 'Men', 'Women',\n",
      "       'AverageIncome', 'Elementary school', 'High school education',\n",
      "       'Vocational Education', 'Short Higher Education',\n",
      "       'Intermediate Higher Education', 'Bachelor's programmes',\n",
      "       'Longer Higher Education', 'PhD and research programs',\n",
      "       'Elementary school expense', 'Special Education expense',\n",
      "       'Elderly Care expense', 'Healthcare expense', 'Green Spaces expense',\n",
      "       'Infrastructure expense', 'Social Services expense', 'Postal code'],\n",
      "      dtype='object')\n"
     ]
    },
    {
     "data": {
      "text/html": [
       "<div>\n",
       "<style scoped>\n",
       "    .dataframe tbody tr th:only-of-type {\n",
       "        vertical-align: middle;\n",
       "    }\n",
       "\n",
       "    .dataframe tbody tr th {\n",
       "        vertical-align: top;\n",
       "    }\n",
       "\n",
       "    .dataframe thead th {\n",
       "        text-align: right;\n",
       "    }\n",
       "</style>\n",
       "<table border=\"1\" class=\"dataframe\">\n",
       "  <thead>\n",
       "    <tr style=\"text-align: right;\">\n",
       "      <th></th>\n",
       "      <th>Adress</th>\n",
       "      <th>City</th>\n",
       "      <th>Street name</th>\n",
       "      <th>Postal code</th>\n",
       "      <th>Latitude</th>\n",
       "      <th>Longitude</th>\n",
       "      <th>Rooms</th>\n",
       "      <th>Property type</th>\n",
       "      <th>Energy label</th>\n",
       "      <th>Price</th>\n",
       "      <th>...</th>\n",
       "      <th>Home size</th>\n",
       "      <th>Monthly expense</th>\n",
       "      <th>Ground size</th>\n",
       "      <th>Transport Station Distance (km)</th>\n",
       "      <th>Beach Distance (km)</th>\n",
       "      <th>School Distance (km)</th>\n",
       "      <th>Restaurant Distance (km)</th>\n",
       "      <th>Hospital Distance (km)</th>\n",
       "      <th>Mall Distance (km)</th>\n",
       "      <th>Supermarkets Distance (km)</th>\n",
       "    </tr>\n",
       "  </thead>\n",
       "  <tbody>\n",
       "    <tr>\n",
       "      <th>0</th>\n",
       "      <td>Nørregade 27, Agerskov 6534</td>\n",
       "      <td>Agerskov</td>\n",
       "      <td>Nørregade</td>\n",
       "      <td>6534</td>\n",
       "      <td>55.130960</td>\n",
       "      <td>9.136025</td>\n",
       "      <td>4</td>\n",
       "      <td>Villa</td>\n",
       "      <td>E</td>\n",
       "      <td>495000</td>\n",
       "      <td>...</td>\n",
       "      <td>100</td>\n",
       "      <td>1.079</td>\n",
       "      <td>1015</td>\n",
       "      <td>16.937517</td>\n",
       "      <td>33.888472</td>\n",
       "      <td>0.218910</td>\n",
       "      <td>0.420885</td>\n",
       "      <td>16.986235</td>\n",
       "      <td>32.349696</td>\n",
       "      <td>8.100554</td>\n",
       "    </tr>\n",
       "    <tr>\n",
       "      <th>1</th>\n",
       "      <td>Keldsvej 5, Store Fuglede 4480</td>\n",
       "      <td>Store Fuglede</td>\n",
       "      <td>Keldsvej</td>\n",
       "      <td>4480</td>\n",
       "      <td>55.577656</td>\n",
       "      <td>11.180144</td>\n",
       "      <td>7</td>\n",
       "      <td>Villa</td>\n",
       "      <td>C</td>\n",
       "      <td>1695000</td>\n",
       "      <td>...</td>\n",
       "      <td>223</td>\n",
       "      <td>2.079</td>\n",
       "      <td>924</td>\n",
       "      <td>11.508389</td>\n",
       "      <td>28.718417</td>\n",
       "      <td>1.954803</td>\n",
       "      <td>9.338248</td>\n",
       "      <td>22.943350</td>\n",
       "      <td>10.673426</td>\n",
       "      <td>5.429859</td>\n",
       "    </tr>\n",
       "    <tr>\n",
       "      <th>2</th>\n",
       "      <td>Tofteengen 8, Roskilde 4000</td>\n",
       "      <td>Roskilde</td>\n",
       "      <td>Tofteengen</td>\n",
       "      <td>4000</td>\n",
       "      <td>55.693270</td>\n",
       "      <td>12.147028</td>\n",
       "      <td>7</td>\n",
       "      <td>Villa</td>\n",
       "      <td>NaN</td>\n",
       "      <td>6495000</td>\n",
       "      <td>...</td>\n",
       "      <td>190</td>\n",
       "      <td>2.944</td>\n",
       "      <td>834</td>\n",
       "      <td>5.142713</td>\n",
       "      <td>4.930456</td>\n",
       "      <td>1.622775</td>\n",
       "      <td>2.926239</td>\n",
       "      <td>7.211322</td>\n",
       "      <td>6.758098</td>\n",
       "      <td>4.860035</td>\n",
       "    </tr>\n",
       "    <tr>\n",
       "      <th>3</th>\n",
       "      <td>Længstedal 16, Skjern 6900</td>\n",
       "      <td>Skjern</td>\n",
       "      <td>Længstedal</td>\n",
       "      <td>6900</td>\n",
       "      <td>56.003277</td>\n",
       "      <td>8.696856</td>\n",
       "      <td>7</td>\n",
       "      <td>Villa/Landejendom</td>\n",
       "      <td>C</td>\n",
       "      <td>1495000</td>\n",
       "      <td>...</td>\n",
       "      <td>224</td>\n",
       "      <td>2.222</td>\n",
       "      <td>17768</td>\n",
       "      <td>3.319680</td>\n",
       "      <td>14.497442</td>\n",
       "      <td>5.857701</td>\n",
       "      <td>5.974750</td>\n",
       "      <td>20.908849</td>\n",
       "      <td>29.103602</td>\n",
       "      <td>10.622460</td>\n",
       "    </tr>\n",
       "    <tr>\n",
       "      <th>4</th>\n",
       "      <td>Åskrænten 22, Egå 8250</td>\n",
       "      <td>Egå</td>\n",
       "      <td>Åskrænten</td>\n",
       "      <td>8250</td>\n",
       "      <td>56.203278</td>\n",
       "      <td>10.264264</td>\n",
       "      <td>5</td>\n",
       "      <td>Villa</td>\n",
       "      <td>C</td>\n",
       "      <td>6998000</td>\n",
       "      <td>...</td>\n",
       "      <td>163</td>\n",
       "      <td>4.825</td>\n",
       "      <td>810</td>\n",
       "      <td>1.937711</td>\n",
       "      <td>1.270812</td>\n",
       "      <td>1.098538</td>\n",
       "      <td>1.355281</td>\n",
       "      <td>5.404396</td>\n",
       "      <td>3.411354</td>\n",
       "      <td>1.215941</td>\n",
       "    </tr>\n",
       "    <tr>\n",
       "      <th>...</th>\n",
       "      <td>...</td>\n",
       "      <td>...</td>\n",
       "      <td>...</td>\n",
       "      <td>...</td>\n",
       "      <td>...</td>\n",
       "      <td>...</td>\n",
       "      <td>...</td>\n",
       "      <td>...</td>\n",
       "      <td>...</td>\n",
       "      <td>...</td>\n",
       "      <td>...</td>\n",
       "      <td>...</td>\n",
       "      <td>...</td>\n",
       "      <td>...</td>\n",
       "      <td>...</td>\n",
       "      <td>...</td>\n",
       "      <td>...</td>\n",
       "      <td>...</td>\n",
       "      <td>...</td>\n",
       "      <td>...</td>\n",
       "      <td>...</td>\n",
       "    </tr>\n",
       "    <tr>\n",
       "      <th>9910</th>\n",
       "      <td>Bødkerstræde 10, Karlslunde 2690</td>\n",
       "      <td>Karlslunde</td>\n",
       "      <td>Bødkerstræde</td>\n",
       "      <td>2690</td>\n",
       "      <td>55.570120</td>\n",
       "      <td>12.224564</td>\n",
       "      <td>6</td>\n",
       "      <td>Villa</td>\n",
       "      <td>C</td>\n",
       "      <td>5995000</td>\n",
       "      <td>...</td>\n",
       "      <td>190</td>\n",
       "      <td>4.508</td>\n",
       "      <td>1536</td>\n",
       "      <td>4.115616</td>\n",
       "      <td>2.672530</td>\n",
       "      <td>0.262239</td>\n",
       "      <td>1.427502</td>\n",
       "      <td>3.071907</td>\n",
       "      <td>2.343683</td>\n",
       "      <td>0.218098</td>\n",
       "    </tr>\n",
       "    <tr>\n",
       "      <th>9911</th>\n",
       "      <td>Odinsvej 2, Kirke Såby 4060</td>\n",
       "      <td>Kirke Såby</td>\n",
       "      <td>Odinsvej</td>\n",
       "      <td>4060</td>\n",
       "      <td>55.651460</td>\n",
       "      <td>11.880332</td>\n",
       "      <td>3</td>\n",
       "      <td>Villa</td>\n",
       "      <td>C</td>\n",
       "      <td>1645000</td>\n",
       "      <td>...</td>\n",
       "      <td>72</td>\n",
       "      <td>1.780</td>\n",
       "      <td>611</td>\n",
       "      <td>6.387605</td>\n",
       "      <td>3.677477</td>\n",
       "      <td>1.707735</td>\n",
       "      <td>6.612146</td>\n",
       "      <td>12.249469</td>\n",
       "      <td>13.359499</td>\n",
       "      <td>6.426935</td>\n",
       "    </tr>\n",
       "    <tr>\n",
       "      <th>9912</th>\n",
       "      <td>Purupvej 14, Østbirk 8752</td>\n",
       "      <td>Østbirk</td>\n",
       "      <td>Purupvej</td>\n",
       "      <td>8752</td>\n",
       "      <td>55.987175</td>\n",
       "      <td>9.734029</td>\n",
       "      <td>5</td>\n",
       "      <td>Villa</td>\n",
       "      <td>E</td>\n",
       "      <td>2495000</td>\n",
       "      <td>...</td>\n",
       "      <td>233</td>\n",
       "      <td>2.636</td>\n",
       "      <td>2296</td>\n",
       "      <td>11.691203</td>\n",
       "      <td>10.109543</td>\n",
       "      <td>2.951033</td>\n",
       "      <td>0.942083</td>\n",
       "      <td>16.320359</td>\n",
       "      <td>13.302073</td>\n",
       "      <td>9.313335</td>\n",
       "    </tr>\n",
       "    <tr>\n",
       "      <th>9913</th>\n",
       "      <td>Vinkelvej 9, Ulfborg 6990</td>\n",
       "      <td>Ulfborg</td>\n",
       "      <td>Vinkelvej</td>\n",
       "      <td>6990</td>\n",
       "      <td>56.375076</td>\n",
       "      <td>8.121837</td>\n",
       "      <td>1</td>\n",
       "      <td>Villa</td>\n",
       "      <td>D</td>\n",
       "      <td>695000</td>\n",
       "      <td>...</td>\n",
       "      <td>64</td>\n",
       "      <td>865.000</td>\n",
       "      <td>418</td>\n",
       "      <td>13.806256</td>\n",
       "      <td>30.125570</td>\n",
       "      <td>8.263172</td>\n",
       "      <td>0.931642</td>\n",
       "      <td>22.786710</td>\n",
       "      <td>30.593379</td>\n",
       "      <td>14.250801</td>\n",
       "    </tr>\n",
       "    <tr>\n",
       "      <th>9914</th>\n",
       "      <td>Dyssevænget 36B, Brønshøj 2700</td>\n",
       "      <td>Brønshøj</td>\n",
       "      <td>Dyssevænget</td>\n",
       "      <td>2700</td>\n",
       "      <td>55.703926</td>\n",
       "      <td>12.466867</td>\n",
       "      <td>6</td>\n",
       "      <td>Villa</td>\n",
       "      <td>C</td>\n",
       "      <td>5695000</td>\n",
       "      <td>...</td>\n",
       "      <td>164</td>\n",
       "      <td>4.330</td>\n",
       "      <td>534</td>\n",
       "      <td>0.584043</td>\n",
       "      <td>8.828538</td>\n",
       "      <td>0.606623</td>\n",
       "      <td>0.686167</td>\n",
       "      <td>2.643492</td>\n",
       "      <td>1.986010</td>\n",
       "      <td>0.985287</td>\n",
       "    </tr>\n",
       "  </tbody>\n",
       "</table>\n",
       "<p>9915 rows × 24 columns</p>\n",
       "</div>"
      ],
      "text/plain": [
       "                                Adress           City   Street name  \\\n",
       "0          Nørregade 27, Agerskov 6534       Agerskov     Nørregade   \n",
       "1       Keldsvej 5, Store Fuglede 4480  Store Fuglede      Keldsvej   \n",
       "2          Tofteengen 8, Roskilde 4000       Roskilde    Tofteengen   \n",
       "3           Længstedal 16, Skjern 6900         Skjern    Længstedal   \n",
       "4               Åskrænten 22, Egå 8250            Egå     Åskrænten   \n",
       "...                                ...            ...           ...   \n",
       "9910  Bødkerstræde 10, Karlslunde 2690     Karlslunde  Bødkerstræde   \n",
       "9911       Odinsvej 2, Kirke Såby 4060     Kirke Såby      Odinsvej   \n",
       "9912         Purupvej 14, Østbirk 8752        Østbirk      Purupvej   \n",
       "9913         Vinkelvej 9, Ulfborg 6990        Ulfborg     Vinkelvej   \n",
       "9914    Dyssevænget 36B, Brønshøj 2700       Brønshøj   Dyssevænget   \n",
       "\n",
       "      Postal code   Latitude  Longitude Rooms      Property type Energy label  \\\n",
       "0            6534  55.130960   9.136025     4              Villa            E   \n",
       "1            4480  55.577656  11.180144     7              Villa            C   \n",
       "2            4000  55.693270  12.147028     7              Villa          NaN   \n",
       "3            6900  56.003277   8.696856     7  Villa/Landejendom            C   \n",
       "4            8250  56.203278  10.264264     5              Villa            C   \n",
       "...           ...        ...        ...   ...                ...          ...   \n",
       "9910         2690  55.570120  12.224564     6              Villa            C   \n",
       "9911         4060  55.651460  11.880332     3              Villa            C   \n",
       "9912         8752  55.987175   9.734029     5              Villa            E   \n",
       "9913         6990  56.375076   8.121837     1              Villa            D   \n",
       "9914         2700  55.703926  12.466867     6              Villa            C   \n",
       "\n",
       "        Price  ... Home size  Monthly expense Ground size  \\\n",
       "0      495000  ...       100            1.079        1015   \n",
       "1     1695000  ...       223            2.079         924   \n",
       "2     6495000  ...       190            2.944         834   \n",
       "3     1495000  ...       224            2.222       17768   \n",
       "4     6998000  ...       163            4.825         810   \n",
       "...       ...  ...       ...              ...         ...   \n",
       "9910  5995000  ...       190            4.508        1536   \n",
       "9911  1645000  ...        72            1.780         611   \n",
       "9912  2495000  ...       233            2.636        2296   \n",
       "9913   695000  ...        64          865.000         418   \n",
       "9914  5695000  ...       164            4.330         534   \n",
       "\n",
       "     Transport Station Distance (km) Beach Distance (km)  \\\n",
       "0                          16.937517           33.888472   \n",
       "1                          11.508389           28.718417   \n",
       "2                           5.142713            4.930456   \n",
       "3                           3.319680           14.497442   \n",
       "4                           1.937711            1.270812   \n",
       "...                              ...                 ...   \n",
       "9910                        4.115616            2.672530   \n",
       "9911                        6.387605            3.677477   \n",
       "9912                       11.691203           10.109543   \n",
       "9913                       13.806256           30.125570   \n",
       "9914                        0.584043            8.828538   \n",
       "\n",
       "      School Distance (km) Restaurant Distance (km)  Hospital Distance (km)  \\\n",
       "0                 0.218910                 0.420885               16.986235   \n",
       "1                 1.954803                 9.338248               22.943350   \n",
       "2                 1.622775                 2.926239                7.211322   \n",
       "3                 5.857701                 5.974750               20.908849   \n",
       "4                 1.098538                 1.355281                5.404396   \n",
       "...                    ...                      ...                     ...   \n",
       "9910              0.262239                 1.427502                3.071907   \n",
       "9911              1.707735                 6.612146               12.249469   \n",
       "9912              2.951033                 0.942083               16.320359   \n",
       "9913              8.263172                 0.931642               22.786710   \n",
       "9914              0.606623                 0.686167                2.643492   \n",
       "\n",
       "      Mall Distance (km)  Supermarkets Distance (km)  \n",
       "0              32.349696                    8.100554  \n",
       "1              10.673426                    5.429859  \n",
       "2               6.758098                    4.860035  \n",
       "3              29.103602                   10.622460  \n",
       "4               3.411354                    1.215941  \n",
       "...                  ...                         ...  \n",
       "9910            2.343683                    0.218098  \n",
       "9911           13.359499                    6.426935  \n",
       "9912           13.302073                    9.313335  \n",
       "9913           30.593379                   14.250801  \n",
       "9914            1.986010                    0.985287  \n",
       "\n",
       "[9915 rows x 24 columns]"
      ]
     },
     "metadata": {},
     "output_type": "display_data"
    },
    {
     "data": {
      "text/html": [
       "<div>\n",
       "<style scoped>\n",
       "    .dataframe tbody tr th:only-of-type {\n",
       "        vertical-align: middle;\n",
       "    }\n",
       "\n",
       "    .dataframe tbody tr th {\n",
       "        vertical-align: top;\n",
       "    }\n",
       "\n",
       "    .dataframe thead th {\n",
       "        text-align: right;\n",
       "    }\n",
       "</style>\n",
       "<table border=\"1\" class=\"dataframe\">\n",
       "  <thead>\n",
       "    <tr style=\"text-align: right;\">\n",
       "      <th></th>\n",
       "      <th>Adress</th>\n",
       "      <th>City</th>\n",
       "      <th>Street name</th>\n",
       "      <th>Postal code</th>\n",
       "      <th>Latitude</th>\n",
       "      <th>Longitude</th>\n",
       "      <th>Rooms</th>\n",
       "      <th>Property type</th>\n",
       "      <th>Energy label</th>\n",
       "      <th>Price</th>\n",
       "      <th>...</th>\n",
       "      <th>Bachelor's programmes</th>\n",
       "      <th>Longer Higher Education</th>\n",
       "      <th>PhD and research programs</th>\n",
       "      <th>Elementary school expense</th>\n",
       "      <th>Special Education expense</th>\n",
       "      <th>Elderly Care expense</th>\n",
       "      <th>Healthcare expense</th>\n",
       "      <th>Green Spaces expense</th>\n",
       "      <th>Infrastructure expense</th>\n",
       "      <th>Social Services expense</th>\n",
       "    </tr>\n",
       "  </thead>\n",
       "  <tbody>\n",
       "    <tr>\n",
       "      <th>0</th>\n",
       "      <td>Nørregade 27, Agerskov 6534</td>\n",
       "      <td>Agerskov</td>\n",
       "      <td>Nørregade</td>\n",
       "      <td>6534</td>\n",
       "      <td>55.130960</td>\n",
       "      <td>9.136025</td>\n",
       "      <td>4</td>\n",
       "      <td>Villa</td>\n",
       "      <td>E</td>\n",
       "      <td>495000</td>\n",
       "      <td>...</td>\n",
       "      <td>12.0</td>\n",
       "      <td>20.0</td>\n",
       "      <td>2.0</td>\n",
       "      <td>2.165870e+08</td>\n",
       "      <td>330000.0</td>\n",
       "      <td>2.159480e+08</td>\n",
       "      <td>7853000.0</td>\n",
       "      <td>0.0</td>\n",
       "      <td>35717000.0</td>\n",
       "      <td>29579000.0</td>\n",
       "    </tr>\n",
       "    <tr>\n",
       "      <th>1</th>\n",
       "      <td>Keldsvej 5, Store Fuglede 4480</td>\n",
       "      <td>Store Fuglede</td>\n",
       "      <td>Keldsvej</td>\n",
       "      <td>4480</td>\n",
       "      <td>55.577656</td>\n",
       "      <td>11.180144</td>\n",
       "      <td>7</td>\n",
       "      <td>Villa</td>\n",
       "      <td>C</td>\n",
       "      <td>1695000</td>\n",
       "      <td>...</td>\n",
       "      <td>63.0</td>\n",
       "      <td>41.0</td>\n",
       "      <td>5.0</td>\n",
       "      <td>2.806860e+08</td>\n",
       "      <td>1666000.0</td>\n",
       "      <td>2.223620e+08</td>\n",
       "      <td>4171000.0</td>\n",
       "      <td>156000.0</td>\n",
       "      <td>20071000.0</td>\n",
       "      <td>46418000.0</td>\n",
       "    </tr>\n",
       "    <tr>\n",
       "      <th>2</th>\n",
       "      <td>Tofteengen 8, Roskilde 4000</td>\n",
       "      <td>Roskilde</td>\n",
       "      <td>Tofteengen</td>\n",
       "      <td>4000</td>\n",
       "      <td>55.693270</td>\n",
       "      <td>12.147028</td>\n",
       "      <td>7</td>\n",
       "      <td>Villa</td>\n",
       "      <td>NaN</td>\n",
       "      <td>6495000</td>\n",
       "      <td>...</td>\n",
       "      <td>992.0</td>\n",
       "      <td>631.0</td>\n",
       "      <td>92.0</td>\n",
       "      <td>6.525210e+08</td>\n",
       "      <td>2574000.0</td>\n",
       "      <td>4.390510e+08</td>\n",
       "      <td>17162000.0</td>\n",
       "      <td>500000.0</td>\n",
       "      <td>94707000.0</td>\n",
       "      <td>54150000.0</td>\n",
       "    </tr>\n",
       "    <tr>\n",
       "      <th>3</th>\n",
       "      <td>Længstedal 16, Skjern 6900</td>\n",
       "      <td>Skjern</td>\n",
       "      <td>Længstedal</td>\n",
       "      <td>6900</td>\n",
       "      <td>56.003277</td>\n",
       "      <td>8.696856</td>\n",
       "      <td>7</td>\n",
       "      <td>Villa/Landejendom</td>\n",
       "      <td>C</td>\n",
       "      <td>1495000</td>\n",
       "      <td>...</td>\n",
       "      <td>16.0</td>\n",
       "      <td>25.0</td>\n",
       "      <td>6.0</td>\n",
       "      <td>3.704340e+08</td>\n",
       "      <td>3000000.0</td>\n",
       "      <td>2.713550e+08</td>\n",
       "      <td>5691000.0</td>\n",
       "      <td>1839000.0</td>\n",
       "      <td>47807000.0</td>\n",
       "      <td>36748000.0</td>\n",
       "    </tr>\n",
       "    <tr>\n",
       "      <th>4</th>\n",
       "      <td>Åskrænten 22, Egå 8250</td>\n",
       "      <td>Egå</td>\n",
       "      <td>Åskrænten</td>\n",
       "      <td>8250</td>\n",
       "      <td>56.203278</td>\n",
       "      <td>10.264264</td>\n",
       "      <td>5</td>\n",
       "      <td>Villa</td>\n",
       "      <td>C</td>\n",
       "      <td>6998000</td>\n",
       "      <td>...</td>\n",
       "      <td>14294.0</td>\n",
       "      <td>10542.0</td>\n",
       "      <td>1470.0</td>\n",
       "      <td>2.226985e+09</td>\n",
       "      <td>4347000.0</td>\n",
       "      <td>1.442222e+09</td>\n",
       "      <td>68896000.0</td>\n",
       "      <td>5633000.0</td>\n",
       "      <td>75722000.0</td>\n",
       "      <td>113920000.0</td>\n",
       "    </tr>\n",
       "  </tbody>\n",
       "</table>\n",
       "<p>5 rows × 45 columns</p>\n",
       "</div>"
      ],
      "text/plain": [
       "                           Adress           City Street name  Postal code  \\\n",
       "0     Nørregade 27, Agerskov 6534       Agerskov   Nørregade         6534   \n",
       "1  Keldsvej 5, Store Fuglede 4480  Store Fuglede    Keldsvej         4480   \n",
       "2     Tofteengen 8, Roskilde 4000       Roskilde  Tofteengen         4000   \n",
       "3      Længstedal 16, Skjern 6900         Skjern  Længstedal         6900   \n",
       "4          Åskrænten 22, Egå 8250            Egå   Åskrænten         8250   \n",
       "\n",
       "    Latitude  Longitude Rooms      Property type Energy label    Price  ...  \\\n",
       "0  55.130960   9.136025     4              Villa            E   495000  ...   \n",
       "1  55.577656  11.180144     7              Villa            C  1695000  ...   \n",
       "2  55.693270  12.147028     7              Villa          NaN  6495000  ...   \n",
       "3  56.003277   8.696856     7  Villa/Landejendom            C  1495000  ...   \n",
       "4  56.203278  10.264264     5              Villa            C  6998000  ...   \n",
       "\n",
       "  Bachelor's programmes  Longer Higher Education PhD and research programs  \\\n",
       "0                  12.0                     20.0                       2.0   \n",
       "1                  63.0                     41.0                       5.0   \n",
       "2                 992.0                    631.0                      92.0   \n",
       "3                  16.0                     25.0                       6.0   \n",
       "4               14294.0                  10542.0                    1470.0   \n",
       "\n",
       "  Elementary school expense Special Education expense  Elderly Care expense  \\\n",
       "0              2.165870e+08                  330000.0          2.159480e+08   \n",
       "1              2.806860e+08                 1666000.0          2.223620e+08   \n",
       "2              6.525210e+08                 2574000.0          4.390510e+08   \n",
       "3              3.704340e+08                 3000000.0          2.713550e+08   \n",
       "4              2.226985e+09                 4347000.0          1.442222e+09   \n",
       "\n",
       "  Healthcare expense  Green Spaces expense  Infrastructure expense  \\\n",
       "0          7853000.0                   0.0              35717000.0   \n",
       "1          4171000.0              156000.0              20071000.0   \n",
       "2         17162000.0              500000.0              94707000.0   \n",
       "3          5691000.0             1839000.0              47807000.0   \n",
       "4         68896000.0             5633000.0              75722000.0   \n",
       "\n",
       "   Social Services expense  \n",
       "0               29579000.0  \n",
       "1               46418000.0  \n",
       "2               54150000.0  \n",
       "3               36748000.0  \n",
       "4              113920000.0  \n",
       "\n",
       "[5 rows x 45 columns]"
      ]
     },
     "metadata": {},
     "output_type": "display_data"
    }
   ],
   "source": [
    "# Omdøb kolonnen fra 'Postnummer' til 'Postal code'\n",
    "df_merged = df_merged.rename(columns={'Postnummer': 'Postal code'})\n",
    "\n",
    "# Bekræft ændringen ved at printe kolonneoverskrifterne\n",
    "print(df_merged.columns)\n",
    "\n",
    "\n",
    "# Læs den nye fil ind som en Pandas DataFrame\n",
    "final_data_v1 = pd.read_csv('Processed_Housing_Data_Final.csv')\n",
    "\n",
    "display(final_data_v1)\n",
    "# Kontroller, at postnummerkolonnen har samme navn i begge DataFrames\n",
    "# Hvis ikke, omdøb den passende kolonne\n",
    "# For eksempel hvis postnummerkolonnen i 'new_data' hedder noget andet, så brug denne linje:\n",
    "# new_data = new_data.rename(columns={'Postnummer': 'Postnummer2'})\n",
    "\n",
    "# Merge de to DataFrames på basis af postnummer\n",
    "merged_data_final = pd.merge(final_data_v1, df_merged, on='Postal code', how='left')\n",
    "merged_data_final = pd.merge(final_data_v1, df_merged, left_on='Postal code', right_on='Postal code', how='left')\n",
    "\n",
    "# Vis de første par rækker af det sammenflettede datasæt for at bekræfte korrekt sammenfletning\n",
    "display(merged_data_final.head())\n",
    "\n",
    "# Gem det sammenflettede datasæt, hvis det ønskes\n",
    "merged_data_final.to_csv('final_data_with_housing.csv', index=False)\n",
    "\n",
    "# Export the entire merged dataset to Excel\n",
    "merged_data_final.to_excel('final_merged_data_v2.xlsx', index=False)"
   ]
  },
  {
   "cell_type": "code",
   "execution_count": null,
   "id": "a418273d-2064-459c-a156-6b01476ceb92",
   "metadata": {},
   "outputs": [],
   "source": []
  }
 ],
 "metadata": {
  "kernelspec": {
   "display_name": "Python 3 (ipykernel)",
   "language": "python",
   "name": "python3"
  },
  "language_info": {
   "codemirror_mode": {
    "name": "ipython",
    "version": 3
   },
   "file_extension": ".py",
   "mimetype": "text/x-python",
   "name": "python",
   "nbconvert_exporter": "python",
   "pygments_lexer": "ipython3",
   "version": "3.12.4"
  }
 },
 "nbformat": 4,
 "nbformat_minor": 5
}
